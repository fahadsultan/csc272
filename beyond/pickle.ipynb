{
 "cells": [
  {
   "cell_type": "markdown",
   "metadata": {},
   "source": [
    "# Pickle\n",
    "\n",
    "pickle is a Python module used to serialize and deserialize Python objects. It can be used to store and retrieve Python objects from disk.\n",
    "\n",
    "## Serialization\n",
    "\n",
    "Serialization is the process of converting a Python object into a byte stream. This byte stream can be stored on disk or sent over a network.\n",
    "\n",
    "The `pickle.dump()` function is used to serialize a Python object. It takes two arguments: the object to serialize and a file object to write the byte stream to.\n",
    "\n",
    "```python\n",
    "import pickle\n",
    "\n",
    "data = {'name': 'Alice', 'age': 25}\n",
    "\n",
    "with open('data.pickle', 'wb') as f:\n",
    "    pickle.dump(data, f)\n",
    "```\n",
    "\n",
    "In this example, we serialize a dictionary containing a person's name and age to a file called `data.pickle`.\n",
    "\n",
    "## Deserialization\n",
    "\n",
    "Deserialization is the process of converting a byte stream back into a Python object.\n",
    "\n",
    "The `pickle.load()` function is used to deserialize a Python object. It takes a file object containing the byte stream as an argument and returns the deserialized object.\n",
    "\n",
    "```python\n",
    "\n",
    "with open('data.pickle', 'rb') as f:\n",
    "    data = pickle.load(f)\n",
    "\n",
    "print(data)\n",
    "\n",
    "```\n",
    "\n",
    "In this example, we deserialize the byte stream from the `data.pickle` file back into a Python object and print it.\n",
    "\n",
    "## Security\n",
    "\n",
    "It is important to note that the `pickle` module is not secure. Deserializing untrusted data can lead to security vulnerabilities, as malicious code can be executed during deserialization. It is recommended to only deserialize data from trusted sources."
   ]
  },
  {
   "cell_type": "code",
   "execution_count": null,
   "metadata": {},
   "outputs": [],
   "source": []
  }
 ],
 "metadata": {
  "language_info": {
   "name": "python"
  }
 },
 "nbformat": 4,
 "nbformat_minor": 2
}
