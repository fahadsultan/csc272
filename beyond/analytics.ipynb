{
 "cells": [
  {
   "cell_type": "markdown",
   "metadata": {},
   "source": [
    "# Data Science and Machine Learning"
   ]
  },
  {
   "cell_type": "markdown",
   "metadata": {},
   "source": [
    "Machine Learning involves creating mathematical models that can learn from and make predictions or decisions based on data. \n",
    "\n",
    "A mathematical model in machine learning is typically represented as a function or a set of equations that describe the relationship between one set of columns (features) and another set of columns (target variable). \n",
    "\n",
    "There are two types of machine learning:\n",
    "\n",
    "1. Supervised Learning\n",
    "\n",
    "2. Unsupervised Learning\n",
    "\n",
    "<center><img src=\"https://www.researchgate.net/publication/351953193/figure/fig3/AS:11431281117150742@1675395484096/Supervised-and-unsupervised-machine-learning-a-Schematic-representation-of-an.png\" style=\"filter:invert(1)\" width=\"70%\">\n",
    "</center>\n",
    "\n",
    "## Supervised Learning \n",
    "\n",
    "In supervised learning, the model is trained on a labeled dataset, which means that each training example is paired with an output label. The goal is to learn a mapping from inputs to outputs. Common algorithms include linear regression, decision trees, and support vector machines.\n",
    "\n",
    "### Classification\n",
    "\n",
    "Classification involves predicting a discrete label or category for a given input. Examples include spam detection in emails and image recognition.\n",
    "\n",
    "### Regression\n",
    "\n",
    "Regression involves predicting a continuous value based on input features. Examples include predicting house prices or stock prices.\n",
    "\n",
    "<center><img src=\"https://media.geeksforgeeks.org/wp-content/uploads/20250129121636823249/classification-vs-regression.webp\" width=\"80%\" style=\"filter:invert(1)\"></center>\n",
    "\n",
    "\n",
    "## Unsupervised Learning\n",
    "\n",
    "In unsupervised learning, the model is trained on data without labeled responses. The goal is to find hidden patterns or intrinsic structures in the input data. Common algorithms include clustering (like K-means) and dimensionality reduction (like PCA).\n",
    "\n",
    "### Clustering \n",
    "\n",
    "Clustering involves grouping a set of objects in such a way that objects in the same group (or cluster) are more similar to each other than to those in other groups. Examples include customer segmentation and image compression.\n",
    "\n",
    "### Dimensionality Reduction\n",
    "\n",
    "Dimensionality reduction involves reducing the number of random variables under consideration, by obtaining a set of principal variables. Examples include feature selection and feature extraction techniques.\n",
    "\n",
    "<center>\n",
    "<img src=\"https://www.researchgate.net/profile/Andrea-Beck-2/publication/344783581/figure/fig2/AS:949012773498885@1603273685950/Two-main-applications-of-unsupervised-learning-clustering-and-dimensionality-reduction.png\" style=\"filter:invert(1)\" width=\"80%\">\n",
    "</center>\n",
    "\n",
    "## Sklearn \n",
    "\n",
    "Scikit-learn (sklearn) is a popular Python library for machine learning that provides simple and efficient tools for data mining and data analysis. It is built on top of NumPy, SciPy, and Matplotlib.\n",
    "\n",
    "<img src=\"https://scikit-learn.org/1.3/_static/ml_map.png\"  width=\"100%\" >"
   ]
  },
  {
   "cell_type": "code",
   "execution_count": null,
   "metadata": {},
   "outputs": [],
   "source": []
  }
 ],
 "metadata": {
  "language_info": {
   "name": "python"
  }
 },
 "nbformat": 4,
 "nbformat_minor": 2
}
