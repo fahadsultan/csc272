{
 "cells": [
  {
   "cell_type": "markdown",
   "metadata": {},
   "source": [
    "# Garbage Collection"
   ]
  },
  {
   "cell_type": "markdown",
   "metadata": {},
   "source": [
    "Garbage collection is a form of automatic memory management. The garbage collector, or just collector, attempts to reclaim garbage, or memory occupied by objects that are no longer in use by the program.\n",
    "\n",
    "Garbage collection is important because it helps to prevent memory leaks. A memory leak occurs when a program allocates memory but does not deallocate it, leading to memory exhaustion.\n",
    "\n",
    "Garbage collection is also important because it helps to prevent memory fragmentation. Memory fragmentation occurs when the memory is divided into small, non-contiguous blocks, leading to inefficient memory usage.\n",
    "\n",
    "In the context of data science and pandas, garbage collection is important because data science projects often involve working with large datasets, which can consume a significant amount of memory. If memory is not properly managed, it can lead to performance issues and crashes.\n",
    "\n",
    "\n",
    "In Python, garbage collection is handled by the `gc` module. The `gc` module provides an interface to the optional garbage collector. It provides the ability to disable the collector, tune the collection frequency, and set debugging options."
   ]
  },
  {
   "cell_type": "markdown",
   "metadata": {},
   "source": [
    "## How does Python manage memory?\n",
    "\n",
    "Python uses a private heap to manage memory. The heap holds all the objects and data structures created by the program. The heap is the memory space where all the objects are stored. The heap is managed by the Python memory manager.\n",
    "\n",
    "The Python memory manager has different components:\n",
    "\n",
    "- The memory allocator: The memory allocator is responsible for allocating memory for objects and data structures.\n",
    "\n",
    "- The garbage collector: The garbage collector is responsible for reclaiming memory occupied by objects that are no longer in use by the program.\n",
    "\n",
    "- The memory deallocator: The memory deallocator is responsible for deallocating memory when an object is no longer needed.\n",
    "\n",
    "<center><img src=\"https://miro.medium.com/v2/resize:fit:777/1*82qTTx6arMt2_YL0NAINGw.png\" width=\"70%\"></center>\n",
    "\n",
    "\n",
    "## What is garbage collection?\n",
    "\n",
    "## How does garbage collection work in Python?\n",
    "\n",
    "Python uses a reference counting mechanism to manage memory. Reference counting is a simple and efficient memory management technique. It works by keeping track of the number of references to an object. When an object is created, its reference count is set to one. When an object is referenced by another object, its reference count is incremented. When an object is no longer referenced, its reference count is decremented. When an object's reference count reaches zero, the object is no longer in use by the program and can be reclaimed by the garbage collector.\n",
    "\n",
    "Python also uses a cyclic garbage collector to handle reference cycles. A reference cycle occurs when two or more objects reference each other in a circular manner. The cyclic garbage collector is responsible for detecting and breaking reference cycles.\n",
    "\n",
    "## How to disable garbage collection?\n",
    "\n",
    "You can disable garbage collection in Python using the `gc` module. The `gc` module provides an interface to the optional garbage collector. You can disable the garbage collector by setting the `gc.disable()` function.\n",
    "\n",
    "Here is an example that demonstrates how to disable garbage collection in Python:\n"
   ]
  },
  {
   "cell_type": "code",
   "execution_count": null,
   "metadata": {},
   "outputs": [],
   "source": [
    "import gc\n",
    "\n",
    "gc.disable()\n"
   ]
  },
  {
   "cell_type": "markdown",
   "metadata": {},
   "source": [
    "## How to enable garbage collection?\n",
    "\n",
    "You can enable garbage collection in Python using the `gc` module. The `gc` module provides an interface to the optional garbage collector. You can enable the garbage collector by setting the `gc.enable()` function.\n",
    "\n",
    "Here is an example that demonstrates how to enable garbage collection in Python:\n",
    "\n"
   ]
  },
  {
   "cell_type": "code",
   "execution_count": null,
   "metadata": {},
   "outputs": [],
   "source": [
    "import gc \n",
    "\n",
    "gc.enable()"
   ]
  },
  {
   "cell_type": "markdown",
   "metadata": {},
   "source": [
    "## How to manually run garbage collection?\n",
    "\n",
    "You can manually run garbage collection in Python using the `gc` module. The `gc` module provides an interface to the optional garbage collector. You can manually run garbage collection by setting the `gc.collect()` function.\n",
    "\n",
    "Here is an example that demonstrates how to manually run garbage collection in Python:"
   ]
  },
  {
   "cell_type": "code",
   "execution_count": null,
   "metadata": {},
   "outputs": [],
   "source": [
    "import gc \n",
    "\n",
    "gc.collect()"
   ]
  },
  {
   "cell_type": "markdown",
   "metadata": {},
   "source": [
    "## How to get the garbage collection statistics?\n",
    "\n",
    "You can get the garbage collection statistics in Python using the `gc` module. The `gc` module provides an interface to the optional garbage collector. You can get the garbage collection statistics by setting the `gc.get_stats()` function.\n",
    "\n",
    "Here is an example that demonstrates how to get the garbage collection statistics in Python:"
   ]
  },
  {
   "cell_type": "code",
   "execution_count": null,
   "metadata": {},
   "outputs": [],
   "source": [
    "import gc \n",
    "\n",
    "gc.get_stats()"
   ]
  },
  {
   "cell_type": "markdown",
   "metadata": {},
   "source": [
    "`gc.get_stats()` returns a list of dictionaries, where each dictionary contains the following keys:\n",
    "\n",
    "- `collections`: The number of garbage collections that have occurred.\n",
    "\n",
    "- `collected`: The total number of objects collected.\n",
    "\n",
    "- `uncollectable`: The total number of uncollectable objects.\n",
    "\n",
    "- `garbage`: The total number of objects that are garbage.\n",
    "\n"
   ]
  },
  {
   "cell_type": "markdown",
   "metadata": {},
   "source": [
    "## How to debug the garbage collector?\n",
    "\n",
    "You can debug the garbage collector in Python using the `gc` module. The `gc` module provides an interface to the optional garbage collector. You can debug the garbage collector by setting the `gc.set_debug()` function.\n",
    "\n",
    "Here is an example that demonstrates how to debug the garbage collector in Python:\n",
    "\n",
    "`gc.set_debug()` takes an integer argument that specifies the debugging level. The debugging level can be one of the following values:\n",
    "\n",
    "- `gc.DEBUG_STATS`: Print statistics during collection.\n",
    "\n",
    "- `gc.DEBUG_COLLECTABLE`: Print collectable objects found.\n",
    "\n",
    "- `gc.DEBUG_UNCOLLECTABLE`: Print uncollectable objects found.\n",
    "\n",
    "- `gc.DEBUG_INSTANCES`: Print instance objects found.\n",
    "\n",
    "- `gc.DEBUG_OBJECTS`: Print objects found."
   ]
  },
  {
   "cell_type": "markdown",
   "metadata": {},
   "source": [
    "## "
   ]
  }
 ],
 "metadata": {
  "language_info": {
   "name": "python"
  }
 },
 "nbformat": 4,
 "nbformat_minor": 2
}
