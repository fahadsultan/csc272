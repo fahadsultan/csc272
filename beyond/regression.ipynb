{
 "cells": [
  {
   "cell_type": "markdown",
   "metadata": {},
   "source": [
    "# Regression"
   ]
  },
  {
   "cell_type": "markdown",
   "metadata": {},
   "source": [
    "Regression is similar to classification, but instead of predicting a class label, we predict a continuous value. Both regression and classification are types of supervised learning, and the difference between them is the type of output they produce. In regression, the output is a real number, while in classification, the output is a class label.\n",
    "\n",
    "In this notebook, we will learn about regression and implement a simple linear regression model using the scikit-learn library.\n",
    "\n",
    "## Table of Contents\n",
    "\n",
    "1. [Simple Linear Regression](#1.-Simple-Linear-Regression)\n",
    "\n",
    "2. [Multiple Linear Regression](#2.-Multiple-Linear-Regression)\n",
    "\n",
    "3. [Polynomial Regression](#3.-Polynomial-Regression)"
   ]
  },
  {
   "cell_type": "markdown",
   "metadata": {},
   "source": [
    "## 1. Simple Linear Regression\n",
    "\n"
   ]
  },
  {
   "cell_type": "code",
   "execution_count": null,
   "metadata": {},
   "outputs": [],
   "source": []
  }
 ],
 "metadata": {
  "language_info": {
   "name": "python"
  }
 },
 "nbformat": 4,
 "nbformat_minor": 2
}
