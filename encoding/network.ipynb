{
 "cells": [
  {
   "cell_type": "markdown",
   "metadata": {},
   "source": [
    "## Networks Data"
   ]
  },
  {
   "cell_type": "markdown",
   "metadata": {},
   "source": [
    "Networks are a data structure that consists of a set of **nodes** (vertices) and a set of **edges** that relate the nodes to each other. The set of edges describes relationships among the vertices. Graphs are used to model many real-world systems, including computer networks, social networks, and transportation systems.\n",
    "\n",
    "<center><img src=\"https://raw.githubusercontent.com/fahadsultan/csc272/main/assets/network.png\" width=\"40%\" style=\"filter:invert(1)\"></center>\n",
    "\n",
    "<br/>"
   ]
  },
  {
   "cell_type": "markdown",
   "metadata": {},
   "source": [
    "There are two common ways to represent a graph as a matrix: 1. Adjacency Matrix and 2. Edge List. \n",
    "\n",
    "<!-- ### Adjacency Matrix -->\n",
    "\n",
    "The **first** way is to use an **Adjacency matrix**, which is a matrix where each row and column represents a vertex. If there is an edge from vertex $i$ to vertex $j$, then the entry in row $i$ and column $j$ is 1. Otherwise, the entry is 0. For example, the following matrix represents a graph with 4 vertices and 4 edges:\n",
    "<!-- \n",
    "$$\n",
    "\\begin{bmatrix}\n",
    "0 & 1 & 0 & 1 \\\\\n",
    "1 & 0 & 1 & 0 \\\\\n",
    "0 & 1 & 0 & 1 \\\\\n",
    "1 & 0 & 1 & 0 \\\\\n",
    "\\end{bmatrix}\n",
    "$$ -->\n",
    "\n",
    "<center><img src=\"https://raw.githubusercontent.com/fahadsultan/csc272/main/assets/adjacency_matrix.png\" width=\"65%\" style=\"filter:invert(1)\"></center>\n",
    "\n",
    "<br/>"
   ]
  },
  {
   "cell_type": "markdown",
   "metadata": {},
   "source": [
    "<!-- ### Edge List -->\n",
    "\n",
    "The **second** way to represent a graph as a matrix is to use an **Edge list**. An edge list is a list of pairs of vertices that are connected by an edge. For example, the following edge list represents the same graph as the adjacency matrix above:\n",
    "<!-- \n",
    "$$\n",
    "\\begin{bmatrix}\n",
    "0 & 1 \\\\\n",
    "0 & 3 \\\\\n",
    "1 & 2 \\\\\n",
    "2 & 3 \\\\\n",
    "\\end{bmatrix}\n",
    "$$ -->\n",
    "\n",
    "<center><img src=\"https://raw.githubusercontent.com/fahadsultan/csc272/main/assets/edgelist.png\" width=\"30%\" style=\"filter:invert(1)\"></center>\n",
    "\n"
   ]
  },
  {
   "cell_type": "code",
   "execution_count": null,
   "metadata": {
    "vscode": {
     "languageId": "plaintext"
    }
   },
   "outputs": [],
   "source": []
  }
 ],
 "metadata": {
  "language_info": {
   "name": "python"
  }
 },
 "nbformat": 4,
 "nbformat_minor": 2
}
