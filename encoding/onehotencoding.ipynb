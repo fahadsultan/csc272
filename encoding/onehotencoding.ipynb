{
 "cells": [
  {
   "cell_type": "markdown",
   "metadata": {},
   "source": [
    "# Label and One-Hot Encoding\n",
    "\n",
    "In machine learning and data preprocessing, categorical variables often need to be converted into a numerical format that algorithms can understand. Two common techniques for this conversion are Label Encoding and One-Hot Encoding."
   ]
  },
  {
   "cell_type": "markdown",
   "metadata": {},
   "source": [
    "## Encoding Ordinal Features: Label Encoding\n",
    "\n",
    "Ordinal features can be encoded using a technique called **label encoding**. Label encoding is simply converting each value in a column to a number. For example, the sizes of t-shirts could be represented as 0 (XS), 1 (S), 2 (M), 3 (L), 4 (XL), 5 (XXL).\n"
   ]
  },
  {
   "cell_type": "code",
   "execution_count": 1,
   "metadata": {},
   "outputs": [
    {
     "data": {
      "text/html": [
       "<div>\n",
       "<style scoped>\n",
       "    .dataframe tbody tr th:only-of-type {\n",
       "        vertical-align: middle;\n",
       "    }\n",
       "\n",
       "    .dataframe tbody tr th {\n",
       "        vertical-align: top;\n",
       "    }\n",
       "\n",
       "    .dataframe thead th {\n",
       "        text-align: right;\n",
       "    }\n",
       "</style>\n",
       "<table border=\"1\" class=\"dataframe\">\n",
       "  <thead>\n",
       "    <tr style=\"text-align: right;\">\n",
       "      <th></th>\n",
       "      <th>id</th>\n",
       "      <th>zip</th>\n",
       "      <th>phone</th>\n",
       "      <th>lat</th>\n",
       "      <th>lng</th>\n",
       "      <th>type</th>\n",
       "      <th>score</th>\n",
       "      <th>risk</th>\n",
       "      <th>violation</th>\n",
       "    </tr>\n",
       "  </thead>\n",
       "  <tbody>\n",
       "    <tr>\n",
       "      <th>0</th>\n",
       "      <td>70064</td>\n",
       "      <td>94103.0</td>\n",
       "      <td>1.415565e+10</td>\n",
       "      <td>NaN</td>\n",
       "      <td>NaN</td>\n",
       "      <td>Routine - Unscheduled</td>\n",
       "      <td>75.0</td>\n",
       "      <td>High Risk</td>\n",
       "      <td>Improper reheating of food</td>\n",
       "    </tr>\n",
       "    <tr>\n",
       "      <th>1</th>\n",
       "      <td>90039</td>\n",
       "      <td>94103.0</td>\n",
       "      <td>NaN</td>\n",
       "      <td>NaN</td>\n",
       "      <td>NaN</td>\n",
       "      <td>Routine - Unscheduled</td>\n",
       "      <td>81.0</td>\n",
       "      <td>High Risk</td>\n",
       "      <td>High risk food holding temperature</td>\n",
       "    </tr>\n",
       "    <tr>\n",
       "      <th>2</th>\n",
       "      <td>89059</td>\n",
       "      <td>94115.0</td>\n",
       "      <td>1.415369e+10</td>\n",
       "      <td>NaN</td>\n",
       "      <td>NaN</td>\n",
       "      <td>Complaint</td>\n",
       "      <td>NaN</td>\n",
       "      <td>NaN</td>\n",
       "      <td>NaN</td>\n",
       "    </tr>\n",
       "    <tr>\n",
       "      <th>3</th>\n",
       "      <td>91044</td>\n",
       "      <td>94112.0</td>\n",
       "      <td>NaN</td>\n",
       "      <td>NaN</td>\n",
       "      <td>NaN</td>\n",
       "      <td>Routine - Unscheduled</td>\n",
       "      <td>84.0</td>\n",
       "      <td>Moderate Risk</td>\n",
       "      <td>Inadequate and inaccessible handwashing facili...</td>\n",
       "    </tr>\n",
       "    <tr>\n",
       "      <th>4</th>\n",
       "      <td>62768</td>\n",
       "      <td>94122.0</td>\n",
       "      <td>NaN</td>\n",
       "      <td>37.765421</td>\n",
       "      <td>-122.477256</td>\n",
       "      <td>Routine - Unscheduled</td>\n",
       "      <td>90.0</td>\n",
       "      <td>Low Risk</td>\n",
       "      <td>Food safety certificate or food handler card n...</td>\n",
       "    </tr>\n",
       "  </tbody>\n",
       "</table>\n",
       "</div>"
      ],
      "text/plain": [
       "      id      zip         phone        lat         lng                   type  \\\n",
       "0  70064  94103.0  1.415565e+10        NaN         NaN  Routine - Unscheduled   \n",
       "1  90039  94103.0           NaN        NaN         NaN  Routine - Unscheduled   \n",
       "2  89059  94115.0  1.415369e+10        NaN         NaN              Complaint   \n",
       "3  91044  94112.0           NaN        NaN         NaN  Routine - Unscheduled   \n",
       "4  62768  94122.0           NaN  37.765421 -122.477256  Routine - Unscheduled   \n",
       "\n",
       "   score           risk                                          violation  \n",
       "0   75.0      High Risk                         Improper reheating of food  \n",
       "1   81.0      High Risk                 High risk food holding temperature  \n",
       "2    NaN            NaN                                                NaN  \n",
       "3   84.0  Moderate Risk  Inadequate and inaccessible handwashing facili...  \n",
       "4   90.0       Low Risk  Food safety certificate or food handler card n...  "
      ]
     },
     "execution_count": 1,
     "metadata": {},
     "output_type": "execute_result"
    }
   ],
   "source": [
    "import pandas as pd \n",
    "\n",
    "data = pd.read_csv('https://raw.githubusercontent.com/fahadsultan/csc272/main/data/restaurants_truncated.csv', index_col=0)\n",
    "data.head()"
   ]
  },
  {
   "cell_type": "code",
   "execution_count": null,
   "metadata": {},
   "outputs": [],
   "source": [
    "data['risk_enc'] = data['risk'].replace({'Low Risk': 0, 'Moderate Risk': 1, 'High Risk': 2})\n",
    "data.head()"
   ]
  },
  {
   "cell_type": "markdown",
   "metadata": {},
   "source": [
    "## Encoding Nominal Features: One-Hot Encoding\n",
    "\n",
    "Since nominal features don't have any order, encoding them requires some creativity. The most common way to encode nominal features is to use a technique called **one-hot encoding**. One-hot encoding creates a new column for each unique value in the nominal feature. Each new column is a binary feature that indicates whether or not the original observation had that value. \n",
    "\n",
    "The figure below illustrates how one-hot encoding for a \"day\" (of the week) column: \n",
    "\n",
    "<center><img src=\"https://raw.githubusercontent.com/fahadsultan/csc272/main/assets/ohe.png\" width=\"65%\" style=\"filter:invert(1)\"></center>\n",
    "\n",
    "<br/>"
   ]
  },
  {
   "cell_type": "markdown",
   "metadata": {},
   "source": [
    "pandas has a built-in `.get_dummies` function for doing this:"
   ]
  },
  {
   "cell_type": "code",
   "execution_count": null,
   "metadata": {},
   "outputs": [
    {
     "data": {
      "text/html": [
       "<div>\n",
       "<style scoped>\n",
       "    .dataframe tbody tr th:only-of-type {\n",
       "        vertical-align: middle;\n",
       "    }\n",
       "\n",
       "    .dataframe tbody tr th {\n",
       "        vertical-align: top;\n",
       "    }\n",
       "\n",
       "    .dataframe thead th {\n",
       "        text-align: right;\n",
       "    }\n",
       "</style>\n",
       "<table border=\"1\" class=\"dataframe\">\n",
       "  <thead>\n",
       "    <tr style=\"text-align: right;\">\n",
       "      <th></th>\n",
       "      <th>Complaint</th>\n",
       "      <th>New Construction</th>\n",
       "      <th>New Ownership</th>\n",
       "      <th>Reinspection/Followup</th>\n",
       "      <th>Routine - Unscheduled</th>\n",
       "    </tr>\n",
       "  </thead>\n",
       "  <tbody>\n",
       "    <tr>\n",
       "      <th>0</th>\n",
       "      <td>0</td>\n",
       "      <td>0</td>\n",
       "      <td>0</td>\n",
       "      <td>0</td>\n",
       "      <td>1</td>\n",
       "    </tr>\n",
       "    <tr>\n",
       "      <th>1</th>\n",
       "      <td>0</td>\n",
       "      <td>0</td>\n",
       "      <td>0</td>\n",
       "      <td>0</td>\n",
       "      <td>1</td>\n",
       "    </tr>\n",
       "    <tr>\n",
       "      <th>2</th>\n",
       "      <td>1</td>\n",
       "      <td>0</td>\n",
       "      <td>0</td>\n",
       "      <td>0</td>\n",
       "      <td>0</td>\n",
       "    </tr>\n",
       "    <tr>\n",
       "      <th>3</th>\n",
       "      <td>0</td>\n",
       "      <td>0</td>\n",
       "      <td>0</td>\n",
       "      <td>0</td>\n",
       "      <td>1</td>\n",
       "    </tr>\n",
       "    <tr>\n",
       "      <th>4</th>\n",
       "      <td>0</td>\n",
       "      <td>0</td>\n",
       "      <td>0</td>\n",
       "      <td>0</td>\n",
       "      <td>1</td>\n",
       "    </tr>\n",
       "  </tbody>\n",
       "</table>\n",
       "</div>"
      ],
      "text/plain": [
       "   Complaint  New Construction  New Ownership  Reinspection/Followup  \\\n",
       "0          0                 0              0                      0   \n",
       "1          0                 0              0                      0   \n",
       "2          1                 0              0                      0   \n",
       "3          0                 0              0                      0   \n",
       "4          0                 0              0                      0   \n",
       "\n",
       "   Routine - Unscheduled  \n",
       "0                      1  \n",
       "1                      1  \n",
       "2                      0  \n",
       "3                      1  \n",
       "4                      1  "
      ]
     },
     "metadata": {},
     "output_type": "display_data"
    }
   ],
   "source": [
    "pd.get_dummies(data['type']).head()"
   ]
  }
 ],
 "metadata": {
  "kernelspec": {
   "display_name": "base",
   "language": "python",
   "name": "python3"
  },
  "language_info": {
   "codemirror_mode": {
    "name": "ipython",
    "version": 3
   },
   "file_extension": ".py",
   "mimetype": "text/x-python",
   "name": "python",
   "nbconvert_exporter": "python",
   "pygments_lexer": "ipython3",
   "version": "3.9.12"
  }
 },
 "nbformat": 4,
 "nbformat_minor": 2
}
