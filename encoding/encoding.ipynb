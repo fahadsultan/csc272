{
 "cells": [
  {
   "cell_type": "markdown",
   "metadata": {},
   "source": [
    "---\n",
    "title: \"Encoding\"\n",
    "toc: true\n",
    "---\n",
    "\n",
    "Data exists in many forms, formats and modalities. Even missing data is a form of data. \n",
    "\n",
    "Regardless of its form, format or modality, all data ultimately needs to be transformed into a matrix (or matrices) of numbers for it to be used for any machine learning or data mining algorithm.\n",
    "\n",
    "The process of transforming raw data into numeric matrices is often referred to as **Encoding** and the resulting numeric matrices are referred to as **Representations**. These representations may focus on certain aspects (structure, content, semantics etc.) of the data more than others and may be more or less suitable for certain tasks.\n",
    "\n",
    "<center><img src=\"https://raw.githubusercontent.com/fahadsultan/csc272/main/assets/modalities.png\" width=\"80%\" style=\"filter:invert(1)\" /></center>\n",
    "\n"
   ]
  },
  {
   "cell_type": "markdown",
   "metadata": {},
   "source": [
    "# Modalities of Data\n",
    "\n",
    "In this section, we will discuss the most common modalities of data and how to work with them in Python.\n",
    "\n",
    "There are too many data modalities to eumerate an exhaustive list. Each data modality has its own unique characteristics and often require specialized methods to process and analyze. Study and analysis of many data modalities is an area of research within itself. For example, Computer Vision is the area of research that deals with images and videos. Speech processing is the area of research that deals with sounds. Natural Language Processing (NLP) is the area of research that deals with text.\n",
    "\n",
    "Some common modalities and their associated areas of research are:\n",
    "\n",
    "1. **Text**: Natural Language Processing, Computational Linguistics\n",
    "2. **Images**: Computer Vision, Digital Image Processing\n",
    "3. **Sounds**: Digital Signal Processing (DSP)\n",
    "4. **Graphs**: Graph Theory, Network Theory\n",
    "5. **Time Series**: Time Series Analysis\n",
    "6. **Geographic**: Geographic Information Systems (GIS), Spatial Computing."
   ]
  }
 ],
 "metadata": {
  "language_info": {
   "name": "python"
  }
 },
 "nbformat": 4,
 "nbformat_minor": 2
}
