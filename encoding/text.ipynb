{
 "cells": [
  {
   "cell_type": "code",
   "execution_count": null,
   "metadata": {},
   "outputs": [],
   "source": []
  },
  {
   "cell_type": "markdown",
   "metadata": {},
   "source": [
    "## Text"
   ]
  },
  {
   "cell_type": "markdown",
   "metadata": {},
   "source": [
    "Text is arguably the most ubiquitous non-numeric modality of data. Most of the data on the internet is text. Text data generally exists as a **collection of documents** called **corpus**, where each document is one or more **sentences**.  \n",
    "\n",
    "### Bag of Words\n",
    "\n",
    "<br/>\n",
    "\n",
    "<center><img src=\"https://raw.githubusercontent.com/fahadsultan/csc272/main/assets/bow.png\" width=\"90%\" style=\"filter:invert(1)\"/></center>\n",
    "\n",
    "Text data can be encoded into a number of different numeric representations. The most common is the **Bag-of-Words** (BoW) representation, which is closely related with One-Hot Encoding. \n",
    "\n",
    "In the BoW representation, **each row represents a document** and **each column represents a word** in the vocabulary.  The **vocabulary** is the list of all unique words in the corpus. The corpus is the collection of all the documents. A document is a sequence of words. **The value in the cell at $i$th row and $j$th column represents the number of times the word $j$ appears in  document $i$**. \n",
    "\n",
    "Creating a Bag of Words representation for a corpus generally entails the following steps:\n",
    "\n",
    "1. **Tokenization**: Split each document into a sequence of tokens (words).\n",
    "2. Create **Vocabulary**: Create a list of all unique tokens (words) for all documents in the corpus. Often words are normalized by converting all words to lowercase and removing punctuation.\n",
    "3. Create **Document Vectors**: Create a vector for each document in the corpus. The vector is the same length as the vocabulary. The value in each cell of the vector is the number of times the word in the corresponding column appears in the document.\n",
    "4. Create **Document-Term Matrix**: Create a 2D array where each row represents a document and each column represents a word in the vocabulary. The value in the cell at $i$th row and $j$th column represents the number of times the word $j$ appears in  document $i$.\n",
    "\n",
    "The image below shows a bag-of-words representation of a corpus of two documents. The vocabulary is the list of words on the left. The corpus is the 2D array of numbers on the right.\n"
   ]
  },
  {
   "cell_type": "markdown",
   "metadata": {},
   "source": []
  }
 ],
 "metadata": {
  "language_info": {
   "name": "python"
  }
 },
 "nbformat": 4,
 "nbformat_minor": 2
}
