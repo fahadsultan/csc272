{
 "cells": [
  {
   "cell_type": "markdown",
   "metadata": {},
   "source": [
    "# Error bars \n",
    "\n",
    "Error bars are graphical representations of the variability of data and are used on graphs to indicate the error or uncertainty in a reported measurement. They give a general idea of how precise a measurement is, or conversely, how far from the reported value the true value might be.\n",
    "\n",
    "## Types of Error Bars\n",
    "\n",
    "1. **Standard Deviation (SD)**: Represents the amount of variation or dispersion of a set of values. Error bars using standard deviation show how much the individual data points deviate from the mean.\n",
    "\n",
    "2. **Standard Error (SE)**: Represents the standard deviation of the sample mean estimate of a population mean. Error bars using standard error indicate the uncertainty around the mean of the data.\n",
    "\n",
    "3. **Confidence Intervals (CI)**: Represents a range of values that is likely to contain the population parameter with a certain level of confidence (e.g., 95% confidence interval). Error bars using confidence intervals provide a visual representation of the uncertainty around the estimate.\n",
    "\n",
    "## How to Interpret Error Bars\n",
    "\n",
    "- If the error bars of two groups do not overlap, it suggests that there is a statistically significant difference between the groups.\n",
    "\n",
    "- If the error bars overlap, it indicates that there may not be a significant difference between the groups, but this is not definitive.\n",
    "\n",
    "- The length of the error bars indicates the degree of uncertainty; longer error bars suggest greater variability or less precision in the measurement.\n",
    "\n",
    "## Example\n",
    "\n",
    "```python\n",
    "import pandas as pd \n",
    "\n",
    "# Sample data\n"
   ]
  },
  {
   "cell_type": "code",
   "execution_count": null,
   "metadata": {},
   "outputs": [],
   "source": [
    "import pandas as pd \n",
    "\n",
    "url = \"https://raw.githubusercontent.com/fahadsultan/csc272/main/data/elections.csv\"\n",
    "\n",
    "elections = pd.read_csv(url)"
   ]
  },
  {
   "cell_type": "code",
   "execution_count": null,
   "metadata": {},
   "outputs": [],
   "source": [
    "\n",
    "import matplotlib.pyplot as plt\n",
    "\n",
    "fig, ax = plt.subplots()\n",
    "\n",
    "ax.bar(elections['year'], elections['democrat'], label='Democrat', color='blue')"
   ]
  }
 ],
 "metadata": {
  "language_info": {
   "name": "python"
  }
 },
 "nbformat": 4,
 "nbformat_minor": 2
}
