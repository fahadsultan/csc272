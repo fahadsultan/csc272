{
 "cells": [
  {
   "cell_type": "markdown",
   "metadata": {},
   "source": [
    "---\n",
    "title: \"Probability\"\n",
    "toc: true\n",
    "---\n"
   ]
  },
  {
   "cell_type": "markdown",
   "metadata": {},
   "source": [
    "Probability allows us to talk about uncertainty, in certain terms. Once, we are able to quantify uncertainties, we can deterministically make deductions about the future. The language of statistics also allows us to talk about uncertainty in uncertain but tractable terms that we can reason about.\n",
    "\n",
    "In the context of probability, note that we are going to be concerned with column vectors more than row vectors. In a pandas DataFrame, these column vectors are the columns of the DataFrame aka features."
   ]
  },
  {
   "cell_type": "code",
   "execution_count": 22,
   "metadata": {},
   "outputs": [
    {
     "data": {
      "text/html": [
       "<div>\n",
       "<style scoped>\n",
       "    .dataframe tbody tr th:only-of-type {\n",
       "        vertical-align: middle;\n",
       "    }\n",
       "\n",
       "    .dataframe tbody tr th {\n",
       "        vertical-align: top;\n",
       "    }\n",
       "\n",
       "    .dataframe thead th {\n",
       "        text-align: right;\n",
       "    }\n",
       "</style>\n",
       "<table border=\"1\" class=\"dataframe\">\n",
       "  <thead>\n",
       "    <tr style=\"text-align: right;\">\n",
       "      <th></th>\n",
       "      <th>Season Number</th>\n",
       "      <th>Startup Name</th>\n",
       "      <th>Episode Number</th>\n",
       "      <th>Pitch Number</th>\n",
       "      <th>Season Start</th>\n",
       "      <th>Season End</th>\n",
       "      <th>Original Air Date</th>\n",
       "      <th>Industry</th>\n",
       "      <th>Business Description</th>\n",
       "      <th>Company Website</th>\n",
       "      <th>...</th>\n",
       "      <th>Got Deal</th>\n",
       "      <th>Total Deal Amount</th>\n",
       "      <th>Total Deal Equity</th>\n",
       "      <th>Deal Valuation</th>\n",
       "      <th>Number of Sharks in Deal</th>\n",
       "      <th>Investment Amount Per Shark</th>\n",
       "      <th>Equity Per Shark</th>\n",
       "      <th>Royalty Deal</th>\n",
       "      <th>Advisory Shares Equity</th>\n",
       "      <th>Loan</th>\n",
       "    </tr>\n",
       "  </thead>\n",
       "  <tbody>\n",
       "    <tr>\n",
       "      <th>0</th>\n",
       "      <td>1</td>\n",
       "      <td>AvaTheElephant</td>\n",
       "      <td>1</td>\n",
       "      <td>1</td>\n",
       "      <td>9-Aug-09</td>\n",
       "      <td>5-Feb-10</td>\n",
       "      <td>9-Aug-09</td>\n",
       "      <td>Health/Wellness</td>\n",
       "      <td>Ava The Elephant - Baby and Child Care</td>\n",
       "      <td>http://www.avatheelephant.com/</td>\n",
       "      <td>...</td>\n",
       "      <td>1</td>\n",
       "      <td>50000.0</td>\n",
       "      <td>55.0</td>\n",
       "      <td>90909.0</td>\n",
       "      <td>1.0</td>\n",
       "      <td>50000.0</td>\n",
       "      <td>55.0</td>\n",
       "      <td>NaN</td>\n",
       "      <td>NaN</td>\n",
       "      <td>NaN</td>\n",
       "    </tr>\n",
       "    <tr>\n",
       "      <th>1</th>\n",
       "      <td>1</td>\n",
       "      <td>MrTod'sPieFactory</td>\n",
       "      <td>1</td>\n",
       "      <td>2</td>\n",
       "      <td>9-Aug-09</td>\n",
       "      <td>5-Feb-10</td>\n",
       "      <td>9-Aug-09</td>\n",
       "      <td>Food and Beverage</td>\n",
       "      <td>Mr. Tod's Pie Factory - Specialty Food</td>\n",
       "      <td>http://whybake.com/</td>\n",
       "      <td>...</td>\n",
       "      <td>1</td>\n",
       "      <td>460000.0</td>\n",
       "      <td>50.0</td>\n",
       "      <td>920000.0</td>\n",
       "      <td>2.0</td>\n",
       "      <td>230000.0</td>\n",
       "      <td>25.0</td>\n",
       "      <td>NaN</td>\n",
       "      <td>NaN</td>\n",
       "      <td>NaN</td>\n",
       "    </tr>\n",
       "  </tbody>\n",
       "</table>\n",
       "<p>2 rows × 30 columns</p>\n",
       "</div>"
      ],
      "text/plain": [
       "   Season Number       Startup Name  Episode Number  Pitch Number  \\\n",
       "0              1     AvaTheElephant               1             1   \n",
       "1              1  MrTod'sPieFactory               1             2   \n",
       "\n",
       "  Season Start Season End Original Air Date           Industry  \\\n",
       "0     9-Aug-09   5-Feb-10          9-Aug-09    Health/Wellness   \n",
       "1     9-Aug-09   5-Feb-10          9-Aug-09  Food and Beverage   \n",
       "\n",
       "                     Business Description                 Company Website  \\\n",
       "0  Ava The Elephant - Baby and Child Care  http://www.avatheelephant.com/   \n",
       "1  Mr. Tod's Pie Factory - Specialty Food             http://whybake.com/   \n",
       "\n",
       "   ... Got Deal Total Deal Amount Total Deal Equity Deal Valuation  \\\n",
       "0  ...        1           50000.0              55.0        90909.0   \n",
       "1  ...        1          460000.0              50.0       920000.0   \n",
       "\n",
       "  Number of Sharks in Deal  Investment Amount Per Shark  Equity Per Shark  \\\n",
       "0                      1.0                      50000.0              55.0   \n",
       "1                      2.0                     230000.0              25.0   \n",
       "\n",
       "   Royalty Deal  Advisory Shares Equity  Loan  \n",
       "0           NaN                     NaN   NaN  \n",
       "1           NaN                     NaN   NaN  \n",
       "\n",
       "[2 rows x 30 columns]"
      ]
     },
     "execution_count": 22,
     "metadata": {},
     "output_type": "execute_result"
    }
   ],
   "source": [
    "import pandas as pd\n",
    "\n",
    "data = pd.read_csv(\"../data/Shark Tank US dataset.csv\")\n",
    "\n",
    "data = data[data.columns[:30]]\n",
    "data.head(2)"
   ]
  },
  {
   "cell_type": "markdown",
   "metadata": {},
   "source": [
    "## Random Variable"
   ]
  },
  {
   "cell_type": "markdown",
   "metadata": {},
   "source": [
    "A **random variable** is a mathematical formalization of an abstract quantity that has some degree of uncertainty associated with the values it may take on. \n",
    "The set of all possible values that a random variable can take on is called its **range**. \n",
    "\n",
    "**In the context of `pandas`, we are going to model columns or features as random variables.**\n",
    "\n",
    "Just as numerical features in a `DataFrame` can be either discrete or continuous, random variables can also be either discrete or continuous. The two types require different mathematical formalizations as we will see later.\n",
    "\n",
    "Random variables are usually denoted by capital letters, such as $X$ or $Y$. The values that a random variable can take on are denoted by lower case letters, such as $x$ or $y$.\n",
    "\n",
    "It is also important to remember that **$x$ is a single value** but **$X$ is a collection of values** (i.e. `pd.Series`). "
   ]
  },
  {
   "cell_type": "markdown",
   "metadata": {},
   "source": [
    "In the example below, `Got Deal` and `Deal Valuation` are two random variables in `data`"
   ]
  },
  {
   "cell_type": "code",
   "execution_count": 25,
   "metadata": {},
   "outputs": [
    {
     "data": {
      "text/html": [
       "<div>\n",
       "<style scoped>\n",
       "    .dataframe tbody tr th:only-of-type {\n",
       "        vertical-align: middle;\n",
       "    }\n",
       "\n",
       "    .dataframe tbody tr th {\n",
       "        vertical-align: top;\n",
       "    }\n",
       "\n",
       "    .dataframe thead th {\n",
       "        text-align: right;\n",
       "    }\n",
       "</style>\n",
       "<table border=\"1\" class=\"dataframe\">\n",
       "  <thead>\n",
       "    <tr style=\"text-align: right;\">\n",
       "      <th></th>\n",
       "      <th>Got Deal</th>\n",
       "      <th>Deal Valuation</th>\n",
       "    </tr>\n",
       "  </thead>\n",
       "  <tbody>\n",
       "    <tr>\n",
       "      <th>0</th>\n",
       "      <td>1</td>\n",
       "      <td>90909.0</td>\n",
       "    </tr>\n",
       "    <tr>\n",
       "      <th>1</th>\n",
       "      <td>1</td>\n",
       "      <td>920000.0</td>\n",
       "    </tr>\n",
       "    <tr>\n",
       "      <th>2</th>\n",
       "      <td>0</td>\n",
       "      <td>NaN</td>\n",
       "    </tr>\n",
       "    <tr>\n",
       "      <th>3</th>\n",
       "      <td>0</td>\n",
       "      <td>NaN</td>\n",
       "    </tr>\n",
       "    <tr>\n",
       "      <th>4</th>\n",
       "      <td>0</td>\n",
       "      <td>NaN</td>\n",
       "    </tr>\n",
       "    <tr>\n",
       "      <th>...</th>\n",
       "      <td>...</td>\n",
       "      <td>...</td>\n",
       "    </tr>\n",
       "    <tr>\n",
       "      <th>1360</th>\n",
       "      <td>1</td>\n",
       "      <td>3125000.0</td>\n",
       "    </tr>\n",
       "    <tr>\n",
       "      <th>1361</th>\n",
       "      <td>0</td>\n",
       "      <td>NaN</td>\n",
       "    </tr>\n",
       "    <tr>\n",
       "      <th>1362</th>\n",
       "      <td>0</td>\n",
       "      <td>NaN</td>\n",
       "    </tr>\n",
       "    <tr>\n",
       "      <th>1363</th>\n",
       "      <td>1</td>\n",
       "      <td>3000000.0</td>\n",
       "    </tr>\n",
       "    <tr>\n",
       "      <th>1364</th>\n",
       "      <td>1</td>\n",
       "      <td>15000000.0</td>\n",
       "    </tr>\n",
       "  </tbody>\n",
       "</table>\n",
       "<p>1365 rows × 2 columns</p>\n",
       "</div>"
      ],
      "text/plain": [
       "      Got Deal  Deal Valuation\n",
       "0            1         90909.0\n",
       "1            1        920000.0\n",
       "2            0             NaN\n",
       "3            0             NaN\n",
       "4            0             NaN\n",
       "...        ...             ...\n",
       "1360         1       3125000.0\n",
       "1361         0             NaN\n",
       "1362         0             NaN\n",
       "1363         1       3000000.0\n",
       "1364         1      15000000.0\n",
       "\n",
       "[1365 rows x 2 columns]"
      ]
     },
     "execution_count": 25,
     "metadata": {},
     "output_type": "execute_result"
    }
   ],
   "source": [
    "data[['Got Deal', 'Deal Valuation']]"
   ]
  },
  {
   "cell_type": "markdown",
   "metadata": {},
   "source": [
    "The ranges of $C$ and $D$ are $\\{H, T\\}$ and $\\{1, 2, 3, 4, 5, 6\\}$ respectively. It is worth repeating for emphasis that the ranges of the two variables is independent of observed data, since the observed data is a limited sample."
   ]
  },
  {
   "cell_type": "markdown",
   "metadata": {},
   "source": [
    "## Experiment, Outcome $\\omega$ and Sample Space $\\Omega$\n",
    "\n",
    "An **outcome**, denoted by $\\omega$, is the set of values that one or more random variables take on as a result of an **experiment**.\n",
    "\n",
    "An **experiment** is a process that yields outcomes out of set of all possible outcomes. \n",
    "\n",
    "The **sample space**, denoted by $\\Omega$, is the set of all possible outcomes. \n",
    "\n",
    "The important operative word here is _\"possible\"_. <u>The sample space is _not_ the set of all _observed_ outcomes</u>, the set of all possible outcomes.\n",
    "\n",
    "If an experiment involves two random variables say $X$ and $Y$ which _can_ take on $n$ possible values (i.e. $~\\text{range}_X = \\{x_1, x_2, \\ldots, x_n\\})$ and $m$ possible values (i.e. $~\\text{range}_Y = \\{y_1, y_2, \\ldots, y_m\\}$) respectively, then the sample space $\\Omega$ is the set of all possible combinations of $x_i$ and $y_j$ and is of size $n \\times m$. \n",
    "\n",
    "<br/>\n",
    "<center>\n",
    "\n",
    "|**$\\omega_i$** | **$X$** | **$Y$** | \n",
    "|:----:|:----:|:----:|\n",
    "|$\\omega_1$ | $x_1$ | $y_1$ | \n",
    "|$\\omega_2$ | $x_1$ | $y_2$ | \n",
    "|: | : | : | \n",
    "| $\\omega_{m}$ | $x_1$ | $y_m$ |\n",
    "| $\\omega_{m+1}$ | $x_2$ | $y_1$ |\n",
    "| $\\omega_{m+2}$ | $x_2$ | $y_2$ |\n",
    "|: | : | : | \n",
    "| $\\omega_{n \\times m}$ | $x_n$ | $y_m$ |\n",
    "\n",
    "</center>\n",
    "<br/>\n",
    "\n",
    "In other words, the sample space is the **cross product of the ranges of all random variables** involved in the experiment.\n",
    "\n",
    "In our example, the experiment is the act of tossing a coin and rolling a dice. \n",
    "\n",
    "Each row in the data is an outcome $w_i$ from the set of all possible outcomes $\\Omega$. \n",
    "\n",
    "For example, coin flip $C$ variable can take on two ($n=2$) values: $\\{H, T\\}$ and dice roll $D$ variable can take on six $m=6$ value: $\\{1, 2, 3, 4, 5, 6\\}$. This means that the sample space $\\Omega$ is of size $n \\times m = 2 \\times 6 = 12$."
   ]
  },
  {
   "cell_type": "markdown",
   "metadata": {},
   "source": [
    "## Observed Sample Space\n",
    "\n",
    "If we have a Series with many repeated values, then [`.unique()`](https://pandas.pydata.org/docs/reference/api/pandas.unique.html) can be used to identify only the *unique* values. \n",
    "\n",
    "It is important to note that in the real world, it is _often impossible to obtain the range_ of a random variable. Since most real-world datasets are **samples**, **`df['X'].unique()` does not necessarily give us the range of $X$**.\n",
    "\n",
    "Here we return an array of all the Industries in the Shark Tank dataset. "
   ]
  },
  {
   "cell_type": "code",
   "execution_count": 16,
   "metadata": {},
   "outputs": [
    {
     "data": {
      "text/plain": [
       "array(['Health/Wellness', 'Food and Beverage', 'Business Services',\n",
       "       'Lifestyle/Home', 'Software/Tech', 'Children/Education',\n",
       "       'Automotive', 'Fashion/Beauty', 'Media/Entertainment',\n",
       "       'Fitness/Sports/Outdoors', 'Pet Products', 'Electronics',\n",
       "       'Green/CleanTech', 'Travel', 'Uncertain/Other', 'Liquor/Alcohol'],\n",
       "      dtype=object)"
      ]
     },
     "execution_count": 16,
     "metadata": {},
     "output_type": "execute_result"
    }
   ],
   "source": [
    "data['Industry'].unique()"
   ]
  },
  {
   "cell_type": "markdown",
   "metadata": {},
   "source": [
    "## Frequency Distributions\n",
    "\n",
    "A frequency distribution is a table that shows the frequency of various values in a dataset. The frequency of a value is the number of times it appears in the dataset.\n",
    "\n",
    "The [`Series.value_counts()`](https://pandas.pydata.org/docs/reference/api/pandas.Series.value_counts.html) methods counts the number of occurrence of each unique value in a `Series`. In other words, it *counts* the number of times each unique *value* appears. This is often useful for determining the most or least common entries in a `Series`.\n",
    "\n",
    "In the example below, we can determine the frequency of startups that got a deal in the dataset."
   ]
  },
  {
   "cell_type": "code",
   "execution_count": 12,
   "metadata": {},
   "outputs": [
    {
     "data": {
      "text/plain": [
       "1    826\n",
       "0    539\n",
       "Name: Got Deal, dtype: int64"
      ]
     },
     "execution_count": 12,
     "metadata": {},
     "output_type": "execute_result"
    }
   ],
   "source": [
    "data[\"Got Deal\"].value_counts()"
   ]
  },
  {
   "cell_type": "markdown",
   "metadata": {},
   "source": [
    "## Probability Model $P(X)$"
   ]
  },
  {
   "cell_type": "markdown",
   "metadata": {},
   "source": [
    "Probability model is a function that assigns a probability score $P(\\omega_i)$ to each possible outcome $\\omega_i$ for every $\\omega_i \\in \\Omega$ such that \n",
    "<!-- $ 0 \\lt P(\\omega_i) \\lt 1 $ and $\\sum_{\\omega \\in \\Omega} P(\\omega_i) = 1$. -->\n",
    "<!-- such that  -->\n",
    "\n",
    "$$ 0 \\lt P(\\omega_i) \\lt 1 ~~~\\text{and}~~~ \\sum_{\\omega \\in \\Omega} P(\\omega_i) = 1$$\n",
    "\n",
    "For example, if we have a random variable $D$ for rolling a die, the probability model assigns a probability to each number that we can roll. The probability model is usually denoted by $P(\\omega_i)$ or $P(D=d)$\n",
    "\n",
    "\n",
    "$\\omega$ | $D$ | $P(D=d)$ |\n",
    ":-------:|:----:|:-----:|\n",
    "$\\omega_1$ | $1$ | $P(D=1)$ |\n",
    "$\\omega_2$ | $2$  | $P(D=2)$ |\n",
    "$\\omega_3$ | $3$  | $P(D=3)$ |\n",
    "$\\omega_4$ | $4$  | $P(D=4)$ |\n",
    "$\\omega_5$ | $5$  | $P(D=5)$ |\n",
    "$\\omega_6$ | $6$  | $P(D=6)$ |\n",
    "\n",
    "such that $0 \\leq P(D=d) \\leq 1$ and and $\\sum_{d \\in D} P(d=D) = 1$."
   ]
  },
  {
   "cell_type": "code",
   "execution_count": 27,
   "metadata": {},
   "outputs": [
    {
     "data": {
      "text/plain": [
       "1    0.605128\n",
       "0    0.394872\n",
       "Name: Got Deal, dtype: float64"
      ]
     },
     "execution_count": 27,
     "metadata": {},
     "output_type": "execute_result"
    }
   ],
   "source": [
    "data['Got Deal'].value_counts() / len(data)"
   ]
  },
  {
   "cell_type": "code",
   "execution_count": 28,
   "metadata": {},
   "outputs": [
    {
     "data": {
      "text/plain": [
       "1    0.605128\n",
       "0    0.394872\n",
       "Name: Got Deal, dtype: float64"
      ]
     },
     "execution_count": 28,
     "metadata": {},
     "output_type": "execute_result"
    }
   ],
   "source": [
    "data['Got Deal'].value_counts(normalize=True)"
   ]
  },
  {
   "cell_type": "markdown",
   "metadata": {},
   "source": [
    "::: {.callout-caution}\n",
    "\n",
    " A word of caution on <u>mathematical notation</u> and <u>dimensionality</u>: \n",
    "\n",
    "Uppercase letters ($X, Y ...$) often refer to a random variable. Lowercase letters ($x, y ...$) often refer to a particular outcome of a random variable.\n",
    "\n",
    "The following refer to a probability <u>value</u> (`int`, `float` etc.):\n",
    "\n",
    "* $P(X = x)$ \n",
    "    \n",
    "    * also written in shorthand as $P(x)$\n",
    "\n",
    "* $P(X = x ∧ Y = y)$  \n",
    "    \n",
    "    * also written in shorthand as $P(x, y)$\n",
    "\n",
    "The following refer to <u>a collection of values</u> (`pd.Series`, `pd.DataFrame` etc.):\n",
    "\n",
    "* $P(X)$\n",
    "\n",
    "* $P(X ∧ Y)$\n",
    "    \n",
    "    * also written as P(X, Y)\n",
    "\n",
    "* $P(X = x, Y)$\n",
    "\n",
    ":::"
   ]
  },
  {
   "cell_type": "markdown",
   "metadata": {},
   "source": [
    "## Probability of an Event $P(\\phi)$\n",
    "\n",
    "An event $\\phi$ is a set of possible worlds $\\{\\omega_i, \\omega_j, ... \\omega_n\\}$. In other words, an event $\\phi$ is a subset of $\\Omega$ i.e. $\\phi \\subset \\Omega$\n",
    "\n",
    "If we continue with the example of rolling a die, we can define an event $\\phi$ as the set of all possible worlds where the die rolls an even number. From the table above, we can see that there are three possible worlds where the die rolls an even number. \n",
    "\n",
    "Therefore, the event $\\phi$ is the set $\\{\\omega_2, \\omega_4, \\omega_6\\}$ or $\\{D=2, D=4, D=6\\}$.\n",
    "\n",
    "<!-- An example of an event is at least one Heads  $ \\phi = \\{\\omega_1 , \\omega_2 , \\omega_3\\}$ -->\n",
    "\n",
    "$P (\\phi) = \\sum_{\\omega \\in \\phi} P(\\omega)$ is the sum of probabilities of the set of possible worlds defining $\\phi$\n",
    "\n",
    "$P (\\phi_1) = P(\\text{Die rolls an even number}) = P(\\omega_2) +P(\\omega_4) + P(\\omega_6) = 0.167 + 0.167 + 0.167  \\approx 0.5 $\n"
   ]
  },
  {
   "cell_type": "code",
   "execution_count": null,
   "metadata": {},
   "outputs": [
    {
     "data": {
      "text/plain": [
       "0.5"
      ]
     },
     "metadata": {},
     "output_type": "display_data"
    }
   ],
   "source": [
    "event_condition = fair_die['D'].apply(lambda x: x % 2 == 0)\n",
    "\n",
    "event = fair_die[event_condition]\n",
    "\n",
    "P_event = event['P(D)'].sum()\n",
    "\n",
    "round(P_event, 2)"
   ]
  },
  {
   "cell_type": "markdown",
   "metadata": {},
   "source": [
    "## Visualizing Probability Distributions"
   ]
  },
  {
   "cell_type": "markdown",
   "metadata": {},
   "source": [
    "### Categorical Random Variables: Bar Plot"
   ]
  },
  {
   "cell_type": "code",
   "execution_count": 48,
   "metadata": {},
   "outputs": [
    {
     "data": {
      "image/png": "[encoded data removed]",
      "text/plain": [
       "<Figure size 640x480 with 1 Axes>"
      ]
     },
     "metadata": {},
     "output_type": "display_data"
    }
   ],
   "source": [
    "fig, ax = plt.subplots()\n",
    "\n",
    "plt.style.use('dark_background')\n",
    "\n",
    "x = data['Got Deal'].value_counts(normalize=True).index\n",
    "y = data['Got Deal'].value_counts(normalize=True).values\n",
    "ax.bar(x, y);\n",
    "\n",
    "ax.set_title(\"Deal or No Deal\")\n",
    "ax.set_xlabel(\"Deal\")\n",
    "ax.set_ylabel(\"P(Got Deal)\");"
   ]
  },
  {
   "cell_type": "markdown",
   "metadata": {},
   "source": [
    "### Continuous Random Variables: Histogram"
   ]
  },
  {
   "cell_type": "markdown",
   "metadata": {},
   "source": [
    "Histograms are used to visualize the distribution of continuous random variables. \n",
    "\n",
    "Note that the histogram is a visual representation of the frequency distribution of a continuous random variable. The height of each bar represents the frequency of the values in the bin.\n",
    "\n",
    "Bins are intervals that divide the range of a continuous random variable into equal segments. The number of bins determines the number of intervals."
   ]
  },
  {
   "cell_type": "code",
   "execution_count": 44,
   "metadata": {},
   "outputs": [
    {
     "data": {
      "text/html": [
       "<div>\n",
       "<style scoped>\n",
       "    .dataframe tbody tr th:only-of-type {\n",
       "        vertical-align: middle;\n",
       "    }\n",
       "\n",
       "    .dataframe tbody tr th {\n",
       "        vertical-align: top;\n",
       "    }\n",
       "\n",
       "    .dataframe thead th {\n",
       "        text-align: right;\n",
       "    }\n",
       "</style>\n",
       "<table border=\"1\" class=\"dataframe\">\n",
       "  <thead>\n",
       "    <tr style=\"text-align: right;\">\n",
       "      <th></th>\n",
       "      <th>Season Number</th>\n",
       "      <th>Startup Name</th>\n",
       "      <th>Episode Number</th>\n",
       "      <th>Pitch Number</th>\n",
       "      <th>Season Start</th>\n",
       "      <th>Season End</th>\n",
       "      <th>Original Air Date</th>\n",
       "      <th>Industry</th>\n",
       "      <th>Business Description</th>\n",
       "      <th>Company Website</th>\n",
       "      <th>...</th>\n",
       "      <th>Got Deal</th>\n",
       "      <th>Total Deal Amount</th>\n",
       "      <th>Total Deal Equity</th>\n",
       "      <th>Deal Valuation</th>\n",
       "      <th>Number of Sharks in Deal</th>\n",
       "      <th>Investment Amount Per Shark</th>\n",
       "      <th>Equity Per Shark</th>\n",
       "      <th>Royalty Deal</th>\n",
       "      <th>Advisory Shares Equity</th>\n",
       "      <th>Loan</th>\n",
       "    </tr>\n",
       "  </thead>\n",
       "  <tbody>\n",
       "    <tr>\n",
       "      <th>0</th>\n",
       "      <td>1</td>\n",
       "      <td>AvaTheElephant</td>\n",
       "      <td>1</td>\n",
       "      <td>1</td>\n",
       "      <td>9-Aug-09</td>\n",
       "      <td>5-Feb-10</td>\n",
       "      <td>9-Aug-09</td>\n",
       "      <td>Health/Wellness</td>\n",
       "      <td>Ava The Elephant - Baby and Child Care</td>\n",
       "      <td>http://www.avatheelephant.com/</td>\n",
       "      <td>...</td>\n",
       "      <td>1</td>\n",
       "      <td>50000.0</td>\n",
       "      <td>55.0</td>\n",
       "      <td>90909.0</td>\n",
       "      <td>1.0</td>\n",
       "      <td>50000.0</td>\n",
       "      <td>55.0</td>\n",
       "      <td>NaN</td>\n",
       "      <td>NaN</td>\n",
       "      <td>NaN</td>\n",
       "    </tr>\n",
       "    <tr>\n",
       "      <th>1</th>\n",
       "      <td>1</td>\n",
       "      <td>MrTod'sPieFactory</td>\n",
       "      <td>1</td>\n",
       "      <td>2</td>\n",
       "      <td>9-Aug-09</td>\n",
       "      <td>5-Feb-10</td>\n",
       "      <td>9-Aug-09</td>\n",
       "      <td>Food and Beverage</td>\n",
       "      <td>Mr. Tod's Pie Factory - Specialty Food</td>\n",
       "      <td>http://whybake.com/</td>\n",
       "      <td>...</td>\n",
       "      <td>1</td>\n",
       "      <td>460000.0</td>\n",
       "      <td>50.0</td>\n",
       "      <td>920000.0</td>\n",
       "      <td>2.0</td>\n",
       "      <td>230000.0</td>\n",
       "      <td>25.0</td>\n",
       "      <td>NaN</td>\n",
       "      <td>NaN</td>\n",
       "      <td>NaN</td>\n",
       "    </tr>\n",
       "    <tr>\n",
       "      <th>2</th>\n",
       "      <td>1</td>\n",
       "      <td>Wispots</td>\n",
       "      <td>1</td>\n",
       "      <td>3</td>\n",
       "      <td>9-Aug-09</td>\n",
       "      <td>5-Feb-10</td>\n",
       "      <td>9-Aug-09</td>\n",
       "      <td>Business Services</td>\n",
       "      <td>Wispots - Consumer Services</td>\n",
       "      <td>http://www.wispots.com/</td>\n",
       "      <td>...</td>\n",
       "      <td>0</td>\n",
       "      <td>NaN</td>\n",
       "      <td>NaN</td>\n",
       "      <td>NaN</td>\n",
       "      <td>NaN</td>\n",
       "      <td>NaN</td>\n",
       "      <td>NaN</td>\n",
       "      <td>NaN</td>\n",
       "      <td>NaN</td>\n",
       "      <td>NaN</td>\n",
       "    </tr>\n",
       "    <tr>\n",
       "      <th>3</th>\n",
       "      <td>1</td>\n",
       "      <td>CollegeFoxesPackingBoxes</td>\n",
       "      <td>1</td>\n",
       "      <td>4</td>\n",
       "      <td>9-Aug-09</td>\n",
       "      <td>5-Feb-10</td>\n",
       "      <td>9-Aug-09</td>\n",
       "      <td>Lifestyle/Home</td>\n",
       "      <td>College Foxes Packing Boxes - Consumer Services</td>\n",
       "      <td>http://collegehunkshaulingjunk.com/</td>\n",
       "      <td>...</td>\n",
       "      <td>0</td>\n",
       "      <td>NaN</td>\n",
       "      <td>NaN</td>\n",
       "      <td>NaN</td>\n",
       "      <td>NaN</td>\n",
       "      <td>NaN</td>\n",
       "      <td>NaN</td>\n",
       "      <td>NaN</td>\n",
       "      <td>NaN</td>\n",
       "      <td>NaN</td>\n",
       "    </tr>\n",
       "    <tr>\n",
       "      <th>4</th>\n",
       "      <td>1</td>\n",
       "      <td>IonicEar</td>\n",
       "      <td>1</td>\n",
       "      <td>5</td>\n",
       "      <td>9-Aug-09</td>\n",
       "      <td>5-Feb-10</td>\n",
       "      <td>9-Aug-09</td>\n",
       "      <td>Software/Tech</td>\n",
       "      <td>Ionic Ear - Novelties</td>\n",
       "      <td>NaN</td>\n",
       "      <td>...</td>\n",
       "      <td>0</td>\n",
       "      <td>NaN</td>\n",
       "      <td>NaN</td>\n",
       "      <td>NaN</td>\n",
       "      <td>NaN</td>\n",
       "      <td>NaN</td>\n",
       "      <td>NaN</td>\n",
       "      <td>NaN</td>\n",
       "      <td>NaN</td>\n",
       "      <td>NaN</td>\n",
       "    </tr>\n",
       "  </tbody>\n",
       "</table>\n",
       "<p>5 rows × 30 columns</p>\n",
       "</div>"
      ],
      "text/plain": [
       "   Season Number              Startup Name  Episode Number  Pitch Number  \\\n",
       "0              1            AvaTheElephant               1             1   \n",
       "1              1         MrTod'sPieFactory               1             2   \n",
       "2              1                   Wispots               1             3   \n",
       "3              1  CollegeFoxesPackingBoxes               1             4   \n",
       "4              1                  IonicEar               1             5   \n",
       "\n",
       "  Season Start Season End Original Air Date           Industry  \\\n",
       "0     9-Aug-09   5-Feb-10          9-Aug-09    Health/Wellness   \n",
       "1     9-Aug-09   5-Feb-10          9-Aug-09  Food and Beverage   \n",
       "2     9-Aug-09   5-Feb-10          9-Aug-09  Business Services   \n",
       "3     9-Aug-09   5-Feb-10          9-Aug-09     Lifestyle/Home   \n",
       "4     9-Aug-09   5-Feb-10          9-Aug-09      Software/Tech   \n",
       "\n",
       "                              Business Description  \\\n",
       "0           Ava The Elephant - Baby and Child Care   \n",
       "1           Mr. Tod's Pie Factory - Specialty Food   \n",
       "2                      Wispots - Consumer Services   \n",
       "3  College Foxes Packing Boxes - Consumer Services   \n",
       "4                            Ionic Ear - Novelties   \n",
       "\n",
       "                       Company Website  ... Got Deal Total Deal Amount  \\\n",
       "0       http://www.avatheelephant.com/  ...        1           50000.0   \n",
       "1                  http://whybake.com/  ...        1          460000.0   \n",
       "2              http://www.wispots.com/  ...        0               NaN   \n",
       "3  http://collegehunkshaulingjunk.com/  ...        0               NaN   \n",
       "4                                  NaN  ...        0               NaN   \n",
       "\n",
       "  Total Deal Equity Deal Valuation Number of Sharks in Deal  \\\n",
       "0              55.0        90909.0                      1.0   \n",
       "1              50.0       920000.0                      2.0   \n",
       "2               NaN            NaN                      NaN   \n",
       "3               NaN            NaN                      NaN   \n",
       "4               NaN            NaN                      NaN   \n",
       "\n",
       "   Investment Amount Per Shark  Equity Per Shark  Royalty Deal  \\\n",
       "0                      50000.0              55.0           NaN   \n",
       "1                     230000.0              25.0           NaN   \n",
       "2                          NaN               NaN           NaN   \n",
       "3                          NaN               NaN           NaN   \n",
       "4                          NaN               NaN           NaN   \n",
       "\n",
       "   Advisory Shares Equity  Loan  \n",
       "0                     NaN   NaN  \n",
       "1                     NaN   NaN  \n",
       "2                     NaN   NaN  \n",
       "3                     NaN   NaN  \n",
       "4                     NaN   NaN  \n",
       "\n",
       "[5 rows x 30 columns]"
      ]
     },
     "execution_count": 44,
     "metadata": {},
     "output_type": "execute_result"
    }
   ],
   "source": [
    "data.head()"
   ]
  },
  {
   "cell_type": "markdown",
   "metadata": {},
   "source": [
    "Note that histograms by default have a bin size of 10. This means that the range of the random variable is divided into 10 equal intervals."
   ]
  },
  {
   "cell_type": "code",
   "execution_count": 52,
   "metadata": {},
   "outputs": [
    {
     "data": {
      "image/png": "[encoded data removed]",
      "text/plain": [
       "<Figure size 640x480 with 1 Axes>"
      ]
     },
     "metadata": {},
     "output_type": "display_data"
    }
   ],
   "source": [
    "fig, ax = plt.subplots()\n",
    "\n",
    "ax.hist(data['Total Deal Equity'], bins=20);\n",
    "ax.set_title(\"Total Deal Equity\")\n",
    "ax.set_xlabel(\"Deal Equity\")\n",
    "ax.set_ylabel(\"Frequency (count of deals)\");"
   ]
  },
  {
   "cell_type": "markdown",
   "metadata": {},
   "source": [
    "In order to plot probabilities, we need to normalize the histogram. This is done by setting the `density` parameter to `True`. This will normalize the histogram such that the area under the histogram is equal to 1.\n",
    "\n",
    "Also note that histograms by default do not plot probabilities. The height of each bar is the frequency of the values in the bin."
   ]
  },
  {
   "cell_type": "code",
   "execution_count": 51,
   "metadata": {},
   "outputs": [
    {
     "data": {
      "image/png": "[encoded data removed]",
      "text/plain": [
       "<Figure size 640x480 with 1 Axes>"
      ]
     },
     "metadata": {},
     "output_type": "display_data"
    }
   ],
   "source": [
    "fig, ax = plt.subplots()\n",
    "\n",
    "ax.hist(data['Total Deal Equity'], bins=20, density=True);\n",
    "ax.set_title(\"Total Deal Equity\")\n",
    "ax.set_xlabel(\"Deal Equity\")\n",
    "ax.set_ylabel(\"P(Deal Equity)\");"
   ]
  }
 ],
 "metadata": {
  "kernelspec": {
   "display_name": "base",
   "language": "python",
   "name": "python3"
  },
  "language_info": {
   "codemirror_mode": {
    "name": "ipython",
    "version": 3
   },
   "file_extension": ".py",
   "mimetype": "text/x-python",
   "name": "python",
   "nbconvert_exporter": "python",
   "pygments_lexer": "ipython3",
   "version": "3.9.12"
  }
 },
 "nbformat": 4,
 "nbformat_minor": 2
}
