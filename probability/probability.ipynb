{
 "cells": [
  {
   "cell_type": "markdown",
   "metadata": {},
   "source": [
    "---\n",
    "title: \"Probability\"\n",
    "toc: true\n",
    "---\n",
    "\n",
    "### `.value_counts()`\n",
    "\n",
    "The [`Series.value_counts()`](https://pandas.pydata.org/docs/reference/api/pandas.Series.value_counts.html) methods counts the number of occurrence of each unique value in a `Series`. In other words, it *counts* the number of times each unique *value* appears. This is often useful for determining the most or least common entries in a `Series`.\n",
    "\n",
    "In the example below, we can determine the name with the most years in which at least one person has taken that name by counting the number of times each name appears in the `\"Name\"` column of `elections`."
   ]
  },
  {
   "cell_type": "code",
   "execution_count": null,
   "metadata": {},
   "outputs": [
    {
     "data": {
      "text/plain": [
       "Democratic     47\n",
       "Republican     41\n",
       "Libertarian    12\n",
       "Prohibition    11\n",
       "Socialist      10\n",
       "Name: Party, dtype: int64"
      ]
     },
     "metadata": {},
     "output_type": "display_data"
    }
   ],
   "source": [
    "elections[\"Party\"].value_counts().head()"
   ]
  },
  {
   "cell_type": "markdown",
   "metadata": {},
   "source": [
    "### `.unique()`\n",
    "\n",
    "If we have a Series with many repeated values, then [`.unique()`](https://pandas.pydata.org/docs/reference/api/pandas.unique.html) can be used to identify only the *unique* values. Here we return an array of all the names in `elections`. "
   ]
  },
  {
   "cell_type": "code",
   "execution_count": null,
   "metadata": {},
   "outputs": [
    {
     "data": {
      "text/plain": [
       "array(['loss', 'win'], dtype=object)"
      ]
     },
     "metadata": {},
     "output_type": "display_data"
    }
   ],
   "source": [
    "elections[\"Result\"].unique()"
   ]
  },
  {
   "cell_type": "markdown",
   "metadata": {},
   "source": [
    "# Probability \n",
    "\n",
    "Probability allows us to talk about uncertainty, in certain terms. Once, we are able to quantify uncertainties, we can deterministically make deductions about the future. The language of statistics also allows us to talk about uncertainty in uncertain but tractable terms that we can reason about."
   ]
  },
  {
   "cell_type": "markdown",
   "metadata": {},
   "source": [
    "## Random Variable"
   ]
  },
  {
   "cell_type": "markdown",
   "metadata": {},
   "source": [
    "A **random variable** is a mathematical formalization of an abstract quantity that has some degree of uncertainty associated with the values it may take on. \n",
    "The set of all possible values that a random variable can take on is called its **range**. \n",
    "\n",
    "A random variable is very much similar to a variable in computer programming. **In the context of `pandas`, a random variable is a column or feature in a `DataFrame`.**\n",
    "\n",
    "Just as numerical features in a `DataFrame` can be either discrete or continuous, random variables can also be either discrete or continuous. The two types require different mathematical formalizations as we will see later.\n",
    "\n",
    "Random variables are usually denoted by capital letters, such as $X$ or $Y$. The values that a random variable can take on are denoted by lower case letters, such as $x$ or $y$.\n",
    "\n",
    "It is important to note that in the real world, it is _often impossible to obtain the range_ of a random variable. Since most real-world datasets are **samples**, **`df['X'].unique()` does not necessarily give us the range of $X$**.\n",
    "\n",
    "It is also important to remember that **$x$ is a single value** but **$X$ is a collection of values** (i.e. `pd.Series`). "
   ]
  },
  {
   "cell_type": "markdown",
   "metadata": {},
   "source": [
    "In the example below, $C$ (coin) and $D$ (dice) are two random variables. "
   ]
  },
  {
   "cell_type": "code",
   "execution_count": null,
   "metadata": {},
   "outputs": [
    {
     "data": {
      "text/html": [
       "<div>\n",
       "<style scoped>\n",
       "    .dataframe tbody tr th:only-of-type {\n",
       "        vertical-align: middle;\n",
       "    }\n",
       "\n",
       "    .dataframe tbody tr th {\n",
       "        vertical-align: top;\n",
       "    }\n",
       "\n",
       "    .dataframe thead th {\n",
       "        text-align: right;\n",
       "    }\n",
       "</style>\n",
       "<table border=\"1\" class=\"dataframe\">\n",
       "  <thead>\n",
       "    <tr style=\"text-align: right;\">\n",
       "      <th></th>\n",
       "      <th>C</th>\n",
       "      <th>D</th>\n",
       "    </tr>\n",
       "  </thead>\n",
       "  <tbody>\n",
       "    <tr>\n",
       "      <th>0</th>\n",
       "      <td>T</td>\n",
       "      <td>1</td>\n",
       "    </tr>\n",
       "    <tr>\n",
       "      <th>1</th>\n",
       "      <td>T</td>\n",
       "      <td>3</td>\n",
       "    </tr>\n",
       "    <tr>\n",
       "      <th>2</th>\n",
       "      <td>T</td>\n",
       "      <td>3</td>\n",
       "    </tr>\n",
       "    <tr>\n",
       "      <th>3</th>\n",
       "      <td>H</td>\n",
       "      <td>2</td>\n",
       "    </tr>\n",
       "    <tr>\n",
       "      <th>4</th>\n",
       "      <td>T</td>\n",
       "      <td>1</td>\n",
       "    </tr>\n",
       "  </tbody>\n",
       "</table>\n",
       "</div>"
      ],
      "text/plain": [
       "   C  D\n",
       "0  T  1\n",
       "1  T  3\n",
       "2  T  3\n",
       "3  H  2\n",
       "4  T  1"
      ]
     },
     "metadata": {},
     "output_type": "display_data"
    }
   ],
   "source": [
    "import pandas as pd \n",
    "\n",
    "data = pd.read_csv('../data/experiment.csv')\n",
    "data.head()"
   ]
  },
  {
   "cell_type": "markdown",
   "metadata": {},
   "source": [
    "The ranges of $C$ and $D$ are $\\{H, T\\}$ and $\\{1, 2, 3, 4, 5, 6\\}$ respectively. It is worth repeating for emphasis that the ranges of the two variables is independent of observed data, since the observed data is a limited sample."
   ]
  },
  {
   "cell_type": "markdown",
   "metadata": {},
   "source": [
    "## Experiment, Outcome $\\omega$ and Sample Space $\\Omega$\n",
    "\n",
    "An **outcome**, denoted by $\\omega$, is the set of values that one or more random variables take on as a result of an **experiment**.\n",
    "\n",
    "An **experiment** is a process that yields outcomes out of set of all possible outcomes. \n",
    "\n",
    "The **sample space**, denoted by $\\Omega$, is the set of all possible outcomes. \n",
    "\n",
    "The important operative word here is _\"possible\"_. <u>The sample space is _not_ the set of all _observed_ outcomes</u>, the set of all possible outcomes.\n",
    "\n",
    "If an experiment involves two random variables say $X$ and $Y$ which _can_ take on $n$ possible values (i.e. $~\\text{range}_X = \\{x_1, x_2, \\ldots, x_n\\})$ and $m$ possible values (i.e. $~\\text{range}_Y = \\{y_1, y_2, \\ldots, y_m\\}$) respectively, then the sample space $\\Omega$ is the set of all possible combinations of $x_i$ and $y_j$ and is of size $n \\times m$. \n",
    "\n",
    "<br/>\n",
    "<center>\n",
    "\n",
    "|**$\\omega_i$** | **$X$** | **$Y$** | \n",
    "|:----:|:----:|:----:|\n",
    "|$\\omega_1$ | $x_1$ | $y_1$ | \n",
    "|$\\omega_2$ | $x_1$ | $y_2$ | \n",
    "|: | : | : | \n",
    "| $\\omega_{m}$ | $x_1$ | $y_m$ |\n",
    "| $\\omega_{m+1}$ | $x_2$ | $y_1$ |\n",
    "| $\\omega_{m+2}$ | $x_2$ | $y_2$ |\n",
    "|: | : | : | \n",
    "| $\\omega_{n \\times m}$ | $x_n$ | $y_m$ |\n",
    "\n",
    "</center>\n",
    "<br/>\n",
    "\n",
    "In other words, the sample space is the **cross product of the ranges of all random variables** involved in the experiment.\n",
    "\n",
    "In our example, the experiment is the act of tossing a coin and rolling a dice. \n",
    "\n",
    "Each row in the data is an outcome $w_i$ from the set of all possible outcomes $\\Omega$. \n",
    "\n",
    "$C$ variable can take on two ($n=2$) values: $\\{H, T\\}$ and $D$ variable can take on six $m=6$ value: $\\{1, 2, 3, 4, 5, 6\\}$. This means that the sample space $\\Omega$ is of size $n \\times m = 2 \\times 6 = 12$.\n",
    "\n",
    "However, the observed outcomes are only 11, as shown below. "
   ]
  },
  {
   "cell_type": "code",
   "execution_count": null,
   "metadata": {},
   "outputs": [
    {
     "data": {
      "text/html": [
       "<div>\n",
       "<style scoped>\n",
       "    .dataframe tbody tr th:only-of-type {\n",
       "        vertical-align: middle;\n",
       "    }\n",
       "\n",
       "    .dataframe tbody tr th {\n",
       "        vertical-align: top;\n",
       "    }\n",
       "\n",
       "    .dataframe thead th {\n",
       "        text-align: right;\n",
       "    }\n",
       "</style>\n",
       "<table border=\"1\" class=\"dataframe\">\n",
       "  <thead>\n",
       "    <tr style=\"text-align: right;\">\n",
       "      <th></th>\n",
       "      <th>C</th>\n",
       "      <th>D</th>\n",
       "    </tr>\n",
       "  </thead>\n",
       "  <tbody>\n",
       "    <tr>\n",
       "      <th>0</th>\n",
       "      <td>H</td>\n",
       "      <td>1</td>\n",
       "    </tr>\n",
       "    <tr>\n",
       "      <th>1</th>\n",
       "      <td>H</td>\n",
       "      <td>2</td>\n",
       "    </tr>\n",
       "    <tr>\n",
       "      <th>2</th>\n",
       "      <td>H</td>\n",
       "      <td>3</td>\n",
       "    </tr>\n",
       "    <tr>\n",
       "      <th>3</th>\n",
       "      <td>H</td>\n",
       "      <td>4</td>\n",
       "    </tr>\n",
       "    <tr>\n",
       "      <th>4</th>\n",
       "      <td>H</td>\n",
       "      <td>5</td>\n",
       "    </tr>\n",
       "    <tr>\n",
       "      <th>5</th>\n",
       "      <td>H</td>\n",
       "      <td>6</td>\n",
       "    </tr>\n",
       "    <tr>\n",
       "      <th>6</th>\n",
       "      <td>T</td>\n",
       "      <td>1</td>\n",
       "    </tr>\n",
       "    <tr>\n",
       "      <th>7</th>\n",
       "      <td>T</td>\n",
       "      <td>2</td>\n",
       "    </tr>\n",
       "    <tr>\n",
       "      <th>8</th>\n",
       "      <td>T</td>\n",
       "      <td>3</td>\n",
       "    </tr>\n",
       "    <tr>\n",
       "      <th>9</th>\n",
       "      <td>T</td>\n",
       "      <td>4</td>\n",
       "    </tr>\n",
       "    <tr>\n",
       "      <th>10</th>\n",
       "      <td>T</td>\n",
       "      <td>5</td>\n",
       "    </tr>\n",
       "  </tbody>\n",
       "</table>\n",
       "</div>"
      ],
      "text/plain": [
       "    C  D\n",
       "0   H  1\n",
       "1   H  2\n",
       "2   H  3\n",
       "3   H  4\n",
       "4   H  5\n",
       "5   H  6\n",
       "6   T  1\n",
       "7   T  2\n",
       "8   T  3\n",
       "9   T  4\n",
       "10  T  5"
      ]
     },
     "metadata": {},
     "output_type": "display_data"
    }
   ],
   "source": [
    "data.groupby(['C', 'D']).count().reset_index()"
   ]
  },
  {
   "cell_type": "markdown",
   "metadata": {},
   "source": [
    "This means that the sample space $\\Omega$ is not the set of all observed outcomes. This is despite the fact that many observed outcomes are observed more than once. The missing outcome, that is never observed, is $w_{12} = (T, 6)$."
   ]
  },
  {
   "cell_type": "markdown",
   "metadata": {},
   "source": [
    "## Probability Model $P(X)$"
   ]
  },
  {
   "cell_type": "markdown",
   "metadata": {},
   "source": [
    "Probability model is a function that assigns a probability score $P(\\omega_i)$ to each possible outcome $\\omega_i$ for every $\\omega_i \\in \\Omega$ such that \n",
    "<!-- $ 0 \\lt P(\\omega_i) \\lt 1 $ and $\\sum_{\\omega \\in \\Omega} P(\\omega_i) = 1$. -->\n",
    "<!-- such that  -->\n",
    "\n",
    "$$ 0 \\lt P(\\omega_i) \\lt 1 ~~~\\text{and}~~~ \\sum_{\\omega \\in \\Omega} P(\\omega_i) = 1$$\n",
    "\n",
    "For example, if we have a random variable $D$ for rolling a die, the probability model assigns a probability to each number that we can roll. The probability model is usually denoted by $P(\\omega_i)$ or $P(D=d)$\n",
    "\n",
    "\n",
    "$\\omega$ | $D$ | $P(D=d)$ |\n",
    ":-------:|:----:|:-----:|\n",
    "$\\omega_1$ | $1$ | $P(D=1)$ |\n",
    "$\\omega_2$ | $2$  | $P(D=2)$ |\n",
    "$\\omega_3$ | $3$  | $P(D=3)$ |\n",
    "$\\omega_4$ | $4$  | $P(D=4)$ |\n",
    "$\\omega_5$ | $5$  | $P(D=5)$ |\n",
    "$\\omega_6$ | $6$  | $P(D=6)$ |\n",
    "\n",
    "such that $0 \\leq P(D=d) \\leq 1$ and and $\\sum_{d \\in D} P(d=D) = 1$."
   ]
  },
  {
   "cell_type": "code",
   "execution_count": null,
   "metadata": {},
   "outputs": [
    {
     "data": {
      "text/html": [
       "<div>\n",
       "<style scoped>\n",
       "    .dataframe tbody tr th:only-of-type {\n",
       "        vertical-align: middle;\n",
       "    }\n",
       "\n",
       "    .dataframe tbody tr th {\n",
       "        vertical-align: top;\n",
       "    }\n",
       "\n",
       "    .dataframe thead th {\n",
       "        text-align: right;\n",
       "    }\n",
       "</style>\n",
       "<table border=\"1\" class=\"dataframe\">\n",
       "  <thead>\n",
       "    <tr style=\"text-align: right;\">\n",
       "      <th></th>\n",
       "      <th>D</th>\n",
       "      <th>P(D)</th>\n",
       "    </tr>\n",
       "  </thead>\n",
       "  <tbody>\n",
       "    <tr>\n",
       "      <th>0</th>\n",
       "      <td>1</td>\n",
       "      <td>0.166667</td>\n",
       "    </tr>\n",
       "    <tr>\n",
       "      <th>1</th>\n",
       "      <td>2</td>\n",
       "      <td>0.166667</td>\n",
       "    </tr>\n",
       "    <tr>\n",
       "      <th>2</th>\n",
       "      <td>3</td>\n",
       "      <td>0.166667</td>\n",
       "    </tr>\n",
       "    <tr>\n",
       "      <th>3</th>\n",
       "      <td>4</td>\n",
       "      <td>0.166667</td>\n",
       "    </tr>\n",
       "    <tr>\n",
       "      <th>4</th>\n",
       "      <td>5</td>\n",
       "      <td>0.166667</td>\n",
       "    </tr>\n",
       "    <tr>\n",
       "      <th>5</th>\n",
       "      <td>6</td>\n",
       "      <td>0.166667</td>\n",
       "    </tr>\n",
       "  </tbody>\n",
       "</table>\n",
       "</div>"
      ],
      "text/plain": [
       "   D      P(D)\n",
       "0  1  0.166667\n",
       "1  2  0.166667\n",
       "2  3  0.166667\n",
       "3  4  0.166667\n",
       "4  5  0.166667\n",
       "5  6  0.166667"
      ]
     },
     "metadata": {},
     "output_type": "display_data"
    }
   ],
   "source": [
    "fair_die = pd.read_csv('../data/fair_die.csv')\n",
    "fair_die"
   ]
  },
  {
   "cell_type": "markdown",
   "metadata": {},
   "source": [
    "The code cell above shows the probability model for the random variable $D$ for a fair die in our examples, where each number has a probability of $\\frac{1}{6}$."
   ]
  },
  {
   "cell_type": "code",
   "execution_count": null,
   "metadata": {},
   "outputs": [
    {
     "data": {
      "image/png": "[encoded data removed]",
      "text/plain": [
       "<Figure size 360x360 with 1 Axes>"
      ]
     },
     "metadata": {},
     "output_type": "display_data"
    }
   ],
   "source": [
    "import seaborn as sns \n",
    "from matplotlib import pyplot as plt\n",
    "\n",
    "axs = sns.catplot(data=fair_die, kind='bar', x=\"D\", y=\"P(D)\", color=\"lightblue\");\n",
    "axs.set(title=\"Probability distribution of rolling a fair die\");"
   ]
  },
  {
   "cell_type": "markdown",
   "metadata": {},
   "source": [
    "``` {admonition} A word of caution on <u>mathematical notation</u> and <u>dimensionality</u>: \n",
    "\n",
    "Uppercase letters ($X, Y ...$) often refer to a random variable. Lowercase letters ($x, y ...$) often refer to a particular outcome of a random variable.\n",
    "\n",
    "The following refer to a probability <u>value</u> (`int`, `float` etc.):\n",
    "* $P(X = x)$ \n",
    "    * also written in shorthand as $P(x)$\n",
    "* $P(X = x ∧ Y = y)$  \n",
    "    * also written in shorthand as $P(x, y)$\n",
    "\n",
    "The following refer to <u>a collection of values</u> (`pd.Series`, `pd.DataFrame` etc.):\n",
    "\n",
    "* $P(X)$\n",
    "* $P(X ∧ Y)$\n",
    "    * also written as P(X, Y)\n",
    "* $P(X = x, Y)$\n"
   ]
  },
  {
   "cell_type": "markdown",
   "metadata": {},
   "source": [
    "## Probability of an Event $P(\\phi)$\n",
    "\n",
    "An event $\\phi$ is a set of possible worlds $\\{\\omega_i, \\omega_j, ... \\omega_n\\}$. In other words, an event $\\phi$ is a subset of $\\Omega$ i.e. $\\phi \\subset \\Omega$\n",
    "\n",
    "If we continue with the example of rolling a die, we can define an event $\\phi$ as the set of all possible worlds where the die rolls an even number. From the table above, we can see that there are three possible worlds where the die rolls an even number. \n",
    "\n",
    "Therefore, the event $\\phi$ is the set $\\{\\omega_2, \\omega_4, \\omega_6\\}$ or $\\{D=2, D=4, D=6\\}$.\n",
    "\n",
    "<!-- An example of an event is at least one Heads  $ \\phi = \\{\\omega_1 , \\omega_2 , \\omega_3\\}$ -->\n",
    "\n",
    "$P (\\phi) = \\sum_{\\omega \\in \\phi} P(\\omega)$ is the sum of probabilities of the set of possible worlds defining $\\phi$\n",
    "\n",
    "$P (\\phi_1) = P(\\text{Die rolls an even number}) = P(\\omega_2) +P(\\omega_4) + P(\\omega_6) = 0.167 + 0.167 + 0.167  \\approx 0.5 $\n"
   ]
  },
  {
   "cell_type": "code",
   "execution_count": null,
   "metadata": {},
   "outputs": [
    {
     "data": {
      "text/plain": [
       "0.5"
      ]
     },
     "metadata": {},
     "output_type": "display_data"
    }
   ],
   "source": [
    "event_condition = fair_die['D'].apply(lambda x: x % 2 == 0)\n",
    "\n",
    "event = fair_die[event_condition]\n",
    "\n",
    "P_event = event['P(D)'].sum()\n",
    "\n",
    "round(P_event, 2)"
   ]
  },
  {
   "cell_type": "code",
   "execution_count": null,
   "metadata": {},
   "outputs": [],
   "source": []
  }
 ],
 "metadata": {
  "language_info": {
   "name": "python"
  }
 },
 "nbformat": 4,
 "nbformat_minor": 2
}
