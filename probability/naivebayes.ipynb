{
 "cells": [
  {
   "cell_type": "markdown",
   "metadata": {},
   "source": [
    "# Naive Bayes"
   ]
  },
  {
   "cell_type": "markdown",
   "metadata": {},
   "source": [
    "## Conditional Probability $P(A | B)$\n",
    "\n",
    "Conditional probability is the probability of one event occurring given that another event has occurred. \n",
    "\n",
    "The conditional probability is usually denoted by $P(A | B)$ and is defined as:\n",
    "\n",
    "$$ P(A | B) = \\frac{P(A, B)}{P(B)} $$\n",
    "\n",
    "The denominator is the marginal probability of $B$.\n",
    "\n",
    "<img width=\"80%\" align=\"center\" src=\"../assets/conditionalprob.png\">\n",
    "\n",
    "<br/>\n",
    "\n",
    "For example, if we are flipping two coins, the conditional probability of flipping heads in the second toss, knowing the first toss was tails is: \n",
    "\n",
    "| Possible world | $\\text{Coin}_1$ | $\\text{Coin}_2$ | $P(\\omega)$ |\n",
    "|:----------------:|:-------------:|:-------------:|:-------------:|\n",
    "| $\\omega_1$ | H | H | 0.25 |\n",
    "| $\\omega_2$ | H | T | 0.25 |\n",
    "| $\\omega_3$ | T | H | 0.25 |\n",
    "| $\\omega_4$ | T | T | 0.25 |\n",
    "\n",
    "$$ P(\\text{Coin}_2 = H | \\text{Coin}_1 = T) = \\frac{P(\\text{Coin}_2 = H, \\text{Coin}_1 = T)}{P(\\text{Coin}_1 = T)} = \\frac{0.25}{0.5} = 0.5 $$"
   ]
  },
  {
   "cell_type": "code",
   "execution_count": null,
   "metadata": {},
   "outputs": [
    {
     "data": {
      "text/html": [
       "<div>\n",
       "<style scoped>\n",
       "    .dataframe tbody tr th:only-of-type {\n",
       "        vertical-align: middle;\n",
       "    }\n",
       "\n",
       "    .dataframe tbody tr th {\n",
       "        vertical-align: top;\n",
       "    }\n",
       "\n",
       "    .dataframe thead th {\n",
       "        text-align: right;\n",
       "    }\n",
       "</style>\n",
       "<table border=\"1\" class=\"dataframe\">\n",
       "  <thead>\n",
       "    <tr style=\"text-align: right;\">\n",
       "      <th></th>\n",
       "      <th>C</th>\n",
       "      <th>D</th>\n",
       "      <th>P(C, D)</th>\n",
       "      <th>P(C)</th>\n",
       "      <th>P(D)</th>\n",
       "      <th>P(C) P(D)</th>\n",
       "    </tr>\n",
       "  </thead>\n",
       "  <tbody>\n",
       "    <tr>\n",
       "      <th>0</th>\n",
       "      <td>H</td>\n",
       "      <td>1</td>\n",
       "      <td>0.24</td>\n",
       "      <td>0.51</td>\n",
       "      <td>0.43</td>\n",
       "      <td>0.2193</td>\n",
       "    </tr>\n",
       "    <tr>\n",
       "      <th>1</th>\n",
       "      <td>T</td>\n",
       "      <td>1</td>\n",
       "      <td>0.19</td>\n",
       "      <td>0.49</td>\n",
       "      <td>0.43</td>\n",
       "      <td>0.2107</td>\n",
       "    </tr>\n",
       "    <tr>\n",
       "      <th>2</th>\n",
       "      <td>H</td>\n",
       "      <td>2</td>\n",
       "      <td>0.13</td>\n",
       "      <td>0.51</td>\n",
       "      <td>0.22</td>\n",
       "      <td>0.1122</td>\n",
       "    </tr>\n",
       "    <tr>\n",
       "      <th>3</th>\n",
       "      <td>T</td>\n",
       "      <td>2</td>\n",
       "      <td>0.09</td>\n",
       "      <td>0.49</td>\n",
       "      <td>0.22</td>\n",
       "      <td>0.1078</td>\n",
       "    </tr>\n",
       "    <tr>\n",
       "      <th>4</th>\n",
       "      <td>H</td>\n",
       "      <td>3</td>\n",
       "      <td>0.09</td>\n",
       "      <td>0.51</td>\n",
       "      <td>0.22</td>\n",
       "      <td>0.1122</td>\n",
       "    </tr>\n",
       "    <tr>\n",
       "      <th>5</th>\n",
       "      <td>T</td>\n",
       "      <td>3</td>\n",
       "      <td>0.13</td>\n",
       "      <td>0.49</td>\n",
       "      <td>0.22</td>\n",
       "      <td>0.1078</td>\n",
       "    </tr>\n",
       "    <tr>\n",
       "      <th>6</th>\n",
       "      <td>H</td>\n",
       "      <td>4</td>\n",
       "      <td>0.01</td>\n",
       "      <td>0.51</td>\n",
       "      <td>0.05</td>\n",
       "      <td>0.0255</td>\n",
       "    </tr>\n",
       "    <tr>\n",
       "      <th>7</th>\n",
       "      <td>T</td>\n",
       "      <td>4</td>\n",
       "      <td>0.04</td>\n",
       "      <td>0.49</td>\n",
       "      <td>0.05</td>\n",
       "      <td>0.0245</td>\n",
       "    </tr>\n",
       "    <tr>\n",
       "      <th>8</th>\n",
       "      <td>H</td>\n",
       "      <td>5</td>\n",
       "      <td>0.03</td>\n",
       "      <td>0.51</td>\n",
       "      <td>0.03</td>\n",
       "      <td>0.0153</td>\n",
       "    </tr>\n",
       "    <tr>\n",
       "      <th>9</th>\n",
       "      <td>T</td>\n",
       "      <td>5</td>\n",
       "      <td>0.00</td>\n",
       "      <td>0.49</td>\n",
       "      <td>0.03</td>\n",
       "      <td>0.0147</td>\n",
       "    </tr>\n",
       "    <tr>\n",
       "      <th>10</th>\n",
       "      <td>H</td>\n",
       "      <td>6</td>\n",
       "      <td>0.01</td>\n",
       "      <td>0.51</td>\n",
       "      <td>0.05</td>\n",
       "      <td>0.0255</td>\n",
       "    </tr>\n",
       "    <tr>\n",
       "      <th>11</th>\n",
       "      <td>T</td>\n",
       "      <td>6</td>\n",
       "      <td>0.04</td>\n",
       "      <td>0.49</td>\n",
       "      <td>0.05</td>\n",
       "      <td>0.0245</td>\n",
       "    </tr>\n",
       "  </tbody>\n",
       "</table>\n",
       "</div>"
      ],
      "text/plain": [
       "    C  D  P(C, D)  P(C)  P(D)  P(C) P(D)\n",
       "0   H  1     0.24  0.51  0.43     0.2193\n",
       "1   T  1     0.19  0.49  0.43     0.2107\n",
       "2   H  2     0.13  0.51  0.22     0.1122\n",
       "3   T  2     0.09  0.49  0.22     0.1078\n",
       "4   H  3     0.09  0.51  0.22     0.1122\n",
       "5   T  3     0.13  0.49  0.22     0.1078\n",
       "6   H  4     0.01  0.51  0.05     0.0255\n",
       "7   T  4     0.04  0.49  0.05     0.0245\n",
       "8   H  5     0.03  0.51  0.03     0.0153\n",
       "9   T  5     0.00  0.49  0.03     0.0147\n",
       "10  H  6     0.01  0.51  0.05     0.0255\n",
       "11  T  6     0.04  0.49  0.05     0.0245"
      ]
     },
     "metadata": {},
     "output_type": "display_data"
    }
   ],
   "source": [
    "merged"
   ]
  },
  {
   "cell_type": "code",
   "execution_count": null,
   "metadata": {},
   "outputs": [
    {
     "data": {
      "text/plain": [
       "0     0.470588\n",
       "1     0.387755\n",
       "2     0.254902\n",
       "3     0.183673\n",
       "4     0.176471\n",
       "5     0.265306\n",
       "6     0.019608\n",
       "7     0.081633\n",
       "8     0.058824\n",
       "9     0.000000\n",
       "10    0.019608\n",
       "11    0.081633\n",
       "Name: P(D | C), dtype: float64"
      ]
     },
     "metadata": {},
     "output_type": "display_data"
    }
   ],
   "source": [
    "merged['P(D | C)'] = merged['P(C, D)'] / merged['P(C)']\n",
    "merged['P(D | C)']"
   ]
  },
  {
   "cell_type": "code",
   "execution_count": null,
   "metadata": {},
   "outputs": [
    {
     "data": {
      "image/png": "[encoded data removed]",
      "text/plain": [
       "<Figure size 403.5x360 with 1 Axes>"
      ]
     },
     "metadata": {},
     "output_type": "display_data"
    }
   ],
   "source": [
    "merged[['C', 'D', 'P(D | C)']]\n",
    "\n",
    "axs = sns.catplot(data=merged, x=\"D\", y=\"P(D | C)\", hue=\"C\", kind=\"bar\");\n",
    "axs.set(title=\"Conditional probability distribution of D given C\\nNote that the blue bars add up to 1\");"
   ]
  },
  {
   "cell_type": "markdown",
   "metadata": {},
   "source": [
    "Note that the sum of conditional probabilites, unlike joint probability, is not 1. "
   ]
  },
  {
   "cell_type": "code",
   "execution_count": null,
   "metadata": {},
   "outputs": [
    {
     "data": {
      "text/plain": [
       "2.0"
      ]
     },
     "metadata": {},
     "output_type": "display_data"
    }
   ],
   "source": [
    "merged[\"P(D | C)\"].sum()"
   ]
  },
  {
   "cell_type": "markdown",
   "metadata": {},
   "source": [
    "This is because \n",
    "\n",
    "$$ \\sum_C \\sum_D P(D|C) = \\sum_D P(D|C=\\text{Heads}) + \\sum_D P(D|C=\\text{Tails}) $$\n",
    "\n",
    "And $\\sum_D P(D|C=\\text{Heads})$ and $\\sum_D P(D|C=\\text{Tails})$ are individually probability distributions that each sum to 1, over different values of $D$. \n",
    "\n",
    "In other words, in the plot above, the blue bars add up to 1 and the orange bars add up to 1. "
   ]
  },
  {
   "cell_type": "code",
   "execution_count": null,
   "metadata": {},
   "outputs": [
    {
     "data": {
      "text/plain": [
       "(1.0, 1.0)"
      ]
     },
     "metadata": {},
     "output_type": "display_data"
    }
   ],
   "source": [
    "heads = merged[merged[\"C\"] == \"H\"]\n",
    "tails = merged[merged[\"C\"] == \"T\"]\n",
    "\n",
    "heads[\"P(D | C)\"].sum(), tails[\"P(D | C)\"].sum()"
   ]
  },
  {
   "cell_type": "markdown",
   "metadata": {},
   "source": [
    "## Product Rule $P(A, B)$\n",
    "\n",
    "Rearranging the definition of conditional probability, we get the product rule:\n",
    "\n",
    "$$ P(A, B) = P(A | B) \\cdot P(B) $$\n",
    "\n",
    "Similarly, we can also write:\n",
    "\n",
    "$$ P(A, B) = P(B | A) \\cdot P(A)$$\n",
    "\n",
    "In summary, \n",
    "\n",
    "$$ P(A, B) = P(A | B) \\cdot P(B) = P(B | A) \\cdot P(A)$$\n",
    "\n",
    "## Chain Rule $P(A, B, C)$\n",
    "\n",
    "The chain rule is a generalization of the product rule to more than two events.\n",
    "\n",
    "$ P(A, B, C) = P(A | B, C) \\cdot P(B, C) $\n",
    "\n",
    "$P(A, B, C) = P(A | B, C) \\cdot P(B | C) \\cdot P(C)$\n",
    "\n",
    "since $P(B, C) = P(B | C) \\cdot P(C)$ as per the product rule.\n",
    "\n",
    "**Chain rule essentially allows expressing the joint probability of multiple random variables as a product of conditional probabilities.** This is useful because conditional probabilities are often easier to estimate from data than joint probabilities.\n"
   ]
  },
  {
   "cell_type": "markdown",
   "metadata": {},
   "source": [
    "## Inclusion-Exclusion Principle $P(A \\vee B)$\n",
    "\n",
    "Inclusion-Exclusion Principle is a way of calculating the probability of two events occurring i.e. $ P(A=a ~\\text{OR}~ B=b) $ denoted generally as $P(A = a \\vee B = b)$.\n",
    "\n",
    "It is defined as:\n",
    "\n",
    "$$ P(A = a \\vee B = b) = P(A = a) + P(B = b) - P(A = a \\wedge B = b) $$\n",
    "\n",
    "<img align=\"center\" width=\"80%\" src=\"../assets/inclusion_exclusion.png\">\n",
    "\n",
    "For example, if we are rolling two dice, the Inclusion-Exclusion Principle can be used to calculate the probability of rolling a 1 on the first die or a 2 on the second die.\n",
    "\n",
    "$P(\\text{Coin}_1=H \\vee \\text{Coin}_2=T) $\n",
    "\n",
    "$ = P(\\text{Coin}_2=H) + P(\\text{Coin}_1=T) - P(\\text{Coin}_2=H ∧ \\text{Coin}_1=T)$\n",
    "\n",
    "$ = 0.5 + 0.5 - 0.25 $\n",
    "\n",
    "$ = 0.75$ \n"
   ]
  },
  {
   "cell_type": "markdown",
   "metadata": {},
   "source": [
    "## Bayes Theorem $P(A|B)$"
   ]
  },
  {
   "cell_type": "markdown",
   "metadata": {},
   "source": [
    "Bayes theorem is a way of calculating conditional probability. For example, if we are rolling two dice, Bayes theorem can be used to calculate the probability of rolling a 1 on the first die given that we rolled a 2 on the second die.\n",
    "\n",
    "$$ P(A | B) = \\frac{P(B | A) \\cdot P(A)}{P(B)} $$\n",
    "\n",
    "$P(A|B)$ in the context of Bayes theorem is called the **Posterior** probability. \n",
    "\n",
    "$P(B|A)$ is called the **Likelihood**. \n",
    "\n",
    "$P(A)$ is called the **Prior** probability. \n",
    "\n",
    "$P(B)$ is called the **Evidence**, also known as _Marginal Likelihood_."
   ]
  },
  {
   "cell_type": "markdown",
   "metadata": {},
   "source": [
    "$$ P(\\text{Posterior}) = \\frac{P(\\text{Likelihood})\\cdot P(\\text{Prior})}{P(\\text{Evidence})}$$\n",
    "\n",
    "\n",
    "\n",
    "<center><img width=\"40%\" src=\"https://www.analyticsvidhya.com/wp-content/uploads/2016/06/12.jpg\"></center>"
   ]
  },
  {
   "cell_type": "markdown",
   "metadata": {},
   "source": [
    "<!-- \n",
    "## Expectation\n",
    "\n",
    "Expectation is the average value of a random variable. For example, if we are rolling a die, the expectation is the average value of the number that we roll. The expectation is usually denoted by $E(X)$.\n",
    "\n",
    "$$ E(X) = \\sum_{x \\in X} x \\cdot P(X=x) $$\n",
    "\n",
    "## Variance\n",
    "\n",
    "Variance is a measure of how spread out a random variable is. For example, if we are rolling a die, the variance is a measure of how spread out the numbers that we roll are. The variance is usually denoted by $Var(X)$.\n",
    "\n",
    "$$ Var(X) = E((X - E(X))^2) = E(X^2) - E(X)^2 $$\n",
    "\n",
    "## Covariance\n",
    "\n",
    "Covariance is a measure of how two random variables vary together. For example, if we are rolling two dice, the covariance is a measure of how the numbers that we roll on the two dice vary together. The covariance is usually denoted by $Cov(X, Y)$.\n",
    "\n",
    "$$ Cov(X, Y) = E((X - E(X)) \\cdot (Y - E(Y))) = E(X \\cdot Y) - E(X) \\cdot E(Y) $$\n",
    "\n",
    "## Correlation\n",
    "\n",
    "Correlation is a measure of how two random variables vary together. For example, if we are rolling two dice, the correlation is a measure of how the numbers that we roll on the two dice vary together. The correlation is usually denoted by $Corr(X, Y)$.\n",
    "\n",
    "$$ Corr(X, Y) = \\frac{Cov(X, Y)}{\\sqrt{Var(X) \\cdot Var(Y)}} $$ -->"
   ]
  },
  {
   "cell_type": "markdown",
   "metadata": {},
   "source": [
    "Bayes Theorem allows a formal method of updating prior beliefs with new evidence and is the foundation of Bayesian Statistics. We will talk more about this when we talk about Statistics. "
   ]
  },
  {
   "cell_type": "markdown",
   "metadata": {},
   "source": [
    "In machine learning, the task is often to find $P(Y | X_1 = x_1, X_2 = x_2, \\ldots X_D = x_D)$ i.e. the probability of an unknown Y, given some values for $D$ features ($X_1, X_2 \\ldots X_D$). Bayes theorem allows us to calculate this probability from the data. \n",
    "\n",
    "Let's assume we are interested in predicting if a person is a football player ($Y_F=1$) or not ($Y_F=0$), given their height ($X_H$) and weight ($X_W$).\n",
    "\n",
    "Say, we observe a person who is 7 feet tall and weighs 200 pounds. We can use Bayes theorem to calculate the probability of this person being a football player using the following equation:\n",
    "\n",
    "$P(Y | X_H = 7, X_W = 200) = \\frac{P(X_H = 7, X_W = 200 | Y_F) \\cdot P(Y_F)}{P(X_H = 7, X_W = 200)}$"
   ]
  },
  {
   "cell_type": "markdown",
   "metadata": {},
   "source": [
    "Note that here $P(X_H = 7, X_W = 200 | Y_F)$ is the **Likelihood** probability of observing someone who is 7 feet tall and weighs 200 pounds, knowing if they are a football player. \n",
    "\n",
    "$P(Y_F)$ is the **Prior** probability of a person being a football player out of the entire population. \n",
    "\n",
    "$P(X_H = 7, X_W = 200)$ is the probability of the **Evidence** i.e. probability  of observing _anyone_ who is 7 feet tall and weighs 200 pounds in the entire population."
   ]
  },
  {
   "cell_type": "code",
   "execution_count": null,
   "metadata": {},
   "outputs": [],
   "source": []
  }
 ],
 "metadata": {
  "language_info": {
   "name": "python"
  }
 },
 "nbformat": 4,
 "nbformat_minor": 2
}
