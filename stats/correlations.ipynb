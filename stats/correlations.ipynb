{
 "cells": [
  {
   "cell_type": "markdown",
   "id": "a43797ae",
   "metadata": {},
   "source": [
    "## Covariance\n",
    "\n",
    "Covariance is a measure of the relationship between two random variables. It is similar to correlation, but it is not normalized.\n",
    "\n",
    "$$ \\text{Cov}(X, Y) = \\frac{\\sum_{i=1}^{n} (x_i - \\mu_x)(y_i - \\mu_y)}{n} $$\n",
    "\n",
    "where $x_i$ and $y_i$ are the $i$-th values of the two variables, $ \\mu_x$ and $ \\mu_y$ are the means of the two variables, and $n$ is the number of values.\n",
    "\n",
    "The covariance can be positive, negative, or zero. A positive covariance indicates that the two variables tend to increase or decrease together, while a negative covariance indicates that one variable tends to increase as the other decreases.\n"
   ]
  },
  {
   "cell_type": "markdown",
   "id": "0d9458c3",
   "metadata": {},
   "source": [
    "## Correlations \n",
    "\n",
    "Correlation is a statistical measure that describes the relationship between two variables. It can be positive, negative, or zero. \n",
    "\n",
    "Positive correlation: If one variable increases, the other variable also increases.\n",
    "\n",
    "Negative correlation: If one variable increases, the other variable decreases.\n",
    "\n",
    "Zero correlation: There is no relationship between the two variables.\n",
    "\n",
    "The correlation coefficient ranges from -1 to 1. A value of 1 indicates a perfect positive correlation, a value of -1 indicates a perfect negative correlation, and a value of 0 indicates no correlation.\n",
    "\n",
    "There are several methods to compute the correlation between two variables. The two most common methods are the Pearson correlation coefficient and the Spearman correlation"
   ]
  },
  {
   "cell_type": "markdown",
   "id": "662225be",
   "metadata": {},
   "source": [
    "### Pearson Correlation Coefficient\n",
    "\n",
    "The Pearson correlation coefficient measures the linear relationship between two variables. It ranges from -1 to 1.\n",
    "\n",
    "$$ r = \\frac{\\sum_{i=1}^{n} (x_i - \\mu_x)(y_i - \\mu_y)}{\\sqrt{\\sum_{i=1}^{n} (x_i -  \\mu_x)^2} \\sqrt{\\sum_{i=1}^{n} (y_i -  \\mu_y)^2}} $$\n",
    "\n",
    "where $x_i$ and $y_i$ are the $i$-th values of the two variables, $ \\mu_x$ and $ \\mu_y$ are the means of the two variables, and $n$ is the number of values."
   ]
  },
  {
   "cell_type": "code",
   "execution_count": null,
   "id": "30205720",
   "metadata": {},
   "outputs": [
    {
     "data": {
      "text/plain": [
       "0.559061061317942"
      ]
     },
     "metadata": {},
     "output_type": "display_data"
    }
   ],
   "source": [
    "import pandas as pd \n",
    "\n",
    "url = \"https://raw.githubusercontent.com/fahadsultan/csc272/main/data/elections.csv\"\n",
    "\n",
    "elections = pd.read_csv(url)\n",
    "\n",
    "elections.head()\n",
    "\n",
    "x = elections['Popular vote']\n",
    "y = elections['%']\n",
    "\n",
    "r = x.cov(y) / (x.std() * y.std())\n",
    "\n",
    "r"
   ]
  },
  {
   "cell_type": "markdown",
   "id": "05c50d66",
   "metadata": {},
   "source": [
    "You can also compute the correlation between two columns of a `DataFrame` using the `.corr()` method."
   ]
  },
  {
   "cell_type": "code",
   "execution_count": null,
   "id": "02060746",
   "metadata": {},
   "outputs": [
    {
     "data": {
      "text/plain": [
       "0.559061061317942"
      ]
     },
     "metadata": {},
     "output_type": "display_data"
    }
   ],
   "source": [
    "x.corr(y, method='pearson')"
   ]
  },
  {
   "cell_type": "markdown",
   "id": "2c2189a7",
   "metadata": {},
   "source": [
    "### Spearman Correlation\n",
    "\n",
    "The Spearman correlation coefficient measures the monotonic relationship between two variables. It ranges from -1 to 1.\n",
    "\n",
    "$$ r = 1 - \\frac{6 \\sum_{i=1}^{n} d_i^2}{n(n^2 - 1)} $$\n",
    "\n",
    "where $d_i$ is the difference between the ranks of the two variables and $n$ is the number of values.\n"
   ]
  },
  {
   "cell_type": "code",
   "execution_count": null,
   "id": "d982d5a3",
   "metadata": {},
   "outputs": [
    {
     "data": {
      "text/plain": [
       "0.7432486904455022"
      ]
     },
     "metadata": {},
     "output_type": "display_data"
    }
   ],
   "source": [
    "x.corr(y, method='spearman')"
   ]
  },
  {
   "cell_type": "markdown",
   "id": "daa6bb1a",
   "metadata": {},
   "source": [
    "### `.corr()`\n",
    "\n",
    "The [`.corr()`](https://pandas.pydata.org/docs/reference/api/pandas.DataFrame.corr.html) method computes the correlation between columns in a DataFrame. By default, it computes the Pearson correlation coefficient, but the `method` parameter can be used to specify the method to use."
   ]
  }
 ],
 "metadata": {
  "language_info": {
   "name": "python"
  }
 },
 "nbformat": 4,
 "nbformat_minor": 5
}
