{
 "cells": [
  {
   "cell_type": "markdown",
   "metadata": {},
   "source": [
    "# Data Wranging and Manipulation\n",
    "\n",
    "## Pandas\n",
    "\n",
    "<img style=\"filter:invert(1)\" src=\"https://upload.wikimedia.org/wikipedia/commons/thumb/e/ed/Pandas_logo.svg/512px-Pandas_logo.svg.png\" width=\"30%\" align=\"right\">\n",
    "\n",
    "`Pandas` is a powerful Python library that is widely used in data science and data analysis. It provides data structures and functions that make working with tabular data easy and intuitive.\n",
    "\n",
    "It is generally accepted in the data science community as the industry- and academia-standard tool for manipulating tabular data.\n",
    "\n",
    "<img style=\"filter:invert(1)\" src=\"https://miro.medium.com/v2/resize:fit:1400/1*VnkA_uujJhE6stvAhPx0rw.png\" width=\"100%\" align=\"left\">\n",
    "\n",
    "Some of the core functionalities of `Pandas` covered in this course include:\n",
    "\n",
    "* Reading and Writing Data (`read_csv`, `to_csv`, etc.)\n",
    "* Extracting Relevant Rows and Columns (Filtering, Slicing, Selection, `loc`, `iloc`)\n",
    "* Merging multiple datasets (`merge`, `concat`, etc.)\n",
    "* Grouping data (`groupby`)\n",
    "* Aggregating data (`sum`, `mean`, `count`, etc.)\n",
    "* Reshaping data (`pivot`)\n",
    "\n",
    "## Jupyter Notebooks\n",
    "\n",
    "Jupyter Notebooks are an open-source web application that allows you to create and share documents that contain live code, equations, visualizations, and narrative text.\n",
    "\n",
    "They are widely used in data science, scientific computing, and machine learning for data cleaning and transformation, numerical simulation, statistical modeling, data visualization, and much more.\n",
    "\n",
    "<img style=\"filter:invert(1)\" src=\"https://upload.wikimedia.org/wikipedia/commons/thumb/3/38/Jupyter_logo.svg/1200px-Jupyter_logo.svg.png\" width=\"30%\" align=\"right\">\n",
    "\n",
    "## Google Colab \n",
    "\n",
    "<img style=\"filter:invert(1)\" src=\"https://colab.research.google.com/img/colab_favicon_256px.png\" width=\"30%\" align=\"right\">\n",
    "\n",
    "Google Colab is a free, cloud-based platform that allows you to write and execute Python code in your web browser. It provides a Jupyter notebook environment with access to powerful computing resources, including GPUs and TPUs.\n",
    "\n",
    "Note that code running on Google Colab is on a remote server, not on your local machine. This means that any files you want to use in your code must be uploaded to the Colab environment or accessed from a cloud storage service like Google Drive.\n"
   ]
  },
  {
   "cell_type": "code",
   "execution_count": null,
   "metadata": {},
   "outputs": [],
   "source": []
  }
 ],
 "metadata": {
  "language_info": {
   "name": "python"
  }
 },
 "nbformat": 4,
 "nbformat_minor": 2
}
