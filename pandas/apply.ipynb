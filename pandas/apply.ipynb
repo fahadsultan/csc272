{
 "cells": [
  {
   "cell_type": "code",
   "execution_count": null,
   "metadata": {},
   "outputs": [],
   "source": []
  },
  {
   "cell_type": "markdown",
   "metadata": {},
   "source": [
    "---\n",
    "title: \"User-Defined Functions\"\n",
    "toc: true\n",
    "---\n",
    "\n",
    "## `.apply(f, axis=0/1)`\n",
    "\n",
    "A frequent operation in `pandas` is applying a function on to either each column or row of a DataFrame. \n",
    "\n",
    "DataFrame’s `apply` method does exactly this. \n",
    "\n",
    "\n",
    "<center><img src=\"../assets/vectorized2.png\" width=\"30%\" style=\"filter:invert(1)\" /></center>\n",
    "\n",
    "\n",
    "Let's say we wanted to count the number of unique values that each column takes on. We can use `.apply` to answer that question: "
   ]
  },
  {
   "cell_type": "code",
   "execution_count": null,
   "metadata": {},
   "outputs": [
    {
     "data": {
      "text/plain": [
       "Year             50\n",
       "Candidate       132\n",
       "Party            36\n",
       "Popular vote    182\n",
       "Result            2\n",
       "%               182\n",
       "dtype: int64"
      ]
     },
     "metadata": {},
     "output_type": "display_data"
    }
   ],
   "source": [
    "def count_unique(col):\n",
    "    return len(set(col))\n",
    "\n",
    "elections.apply(count_unique, axis=\"index\") # function is passed an individual column"
   ]
  },
  {
   "cell_type": "markdown",
   "metadata": {},
   "source": [
    "### Column-wise: `axis=0` (default)\n",
    "\n",
    "`data.apply(f, axis=0)` applies the function `f` to <b><u>each column</u></b> of the DataFrame `data`. \n",
    "\n",
    "<center><img src=\"../assets/axis0b.png\" width=\"100%\" style=\"filter:invert(1)\" /></center>\n",
    "\n",
    "For example, if we wanted to find the number of unique values in each column of a DataFrame `data`, we could use the following code:\n"
   ]
  },
  {
   "cell_type": "code",
   "execution_count": null,
   "metadata": {},
   "outputs": [
    {
     "data": {
      "text/plain": [
       "Year             50\n",
       "Candidate       132\n",
       "Party            36\n",
       "Popular vote    182\n",
       "Result            2\n",
       "%               182\n",
       "dtype: int64"
      ]
     },
     "metadata": {},
     "output_type": "display_data"
    }
   ],
   "source": [
    "def count_unique(column):\n",
    "    return len(column.unique())\n",
    "\n",
    "elections.apply(count_unique, axis=0)"
   ]
  },
  {
   "cell_type": "markdown",
   "metadata": {},
   "source": [
    "### Row-wise: `axis=1`\n",
    "\n",
    "`data.apply(f, axis=1)` applies the function `f` to <b><u>each row</u></b> of the DataFrame `data`.\n",
    "\n",
    "<center><img src=\"../assets/axis1b.png\" width=\"100%\" style=\"filter:invert(1)\" /></center>\n",
    "\n",
    "For instance, let's say we wanted to count the total number of voters in an election. \n",
    "\n",
    "We can use `.apply` to answer that question using the following formula: \n",
    "\n",
    "$$ \\text{total} \\times \\frac{\\%}{100} = \\text{Popular vote} $$"
   ]
  },
  {
   "cell_type": "code",
   "execution_count": null,
   "metadata": {},
   "outputs": [
    {
     "data": {
      "text/plain": [
       "0         264413\n",
       "1         264412\n",
       "2        1143702\n",
       "3        1143703\n",
       "4        1287655\n",
       "         ...    \n",
       "177    135720167\n",
       "178    158383403\n",
       "179    158383403\n",
       "180    158383401\n",
       "181    158383402\n",
       "Length: 182, dtype: int64"
      ]
     },
     "metadata": {},
     "output_type": "display_data"
    }
   ],
   "source": [
    "def compute_total(row):\n",
    "    return int(row['Popular vote']*100/row['%'])\n",
    "\n",
    "elections.apply(compute_total, axis=1)"
   ]
  },
  {
   "cell_type": "markdown",
   "metadata": {},
   "source": [
    "\n",
    "\n"
   ]
  }
 ],
 "metadata": {
  "language_info": {
   "name": "python"
  }
 },
 "nbformat": 4,
 "nbformat_minor": 2
}
