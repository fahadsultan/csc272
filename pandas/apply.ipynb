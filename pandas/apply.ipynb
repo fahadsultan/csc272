{
 "cells": [
  {
   "cell_type": "markdown",
   "metadata": {},
   "source": [
    "---\n",
    "title: Applying custom functions  \n",
    "toc: true\n",
    "---\n",
    "\n",
    "Applying a custom user-defined function to a DataFrame is a common operation in `pandas`.\n",
    "\n",
    "It allows us to implement custom transformations on the data that are not available in the standard library.\n",
    "\n",
    "The `apply` method can be used in the following way:\n",
    "\n",
    "1. on each value (scalar) of a pd.Series: `df[col].apply(func)` <br/><br/>\n",
    "2. on each column of a pd.DataFrame: `df.apply(func, axis=0)` <br/><br/>\n",
    "3. on each row of a pd.DataFrame: &emsp; `df.apply(func, axis=1)`\n",
    "\n",
    "Each of these operations is distinct in terms of the shape of the output and the arguments that the function being applied takes.\n",
    "\n",
    "\n",
    "| | code | `x` | argument <br/>to the function `f` | Expected return type of `f` | `y` |\n",
    "|:---:|:---: |:---:|:----------------------------:|:------------:|:------------:|\n",
    "| <br/>1 | <br/>`x=df[col]`<br/>`y=x.apply(f)` <br/><br/> | <br/>pd.Series of length $n$ | <br/>scalar | <br/>scalar | <br/>pd.Series of length $n$ |\n",
    "| 2 | `y=x.apply(f,axis=0)` | pd.DataFrame of shape $(n, d)$ <br/><br/> | pd.Series of length $n$ | scalar |  pd.Series of length $d$ |\n",
    "| 3 | `y=x.apply(f,axis=1)` | pd.DataFrame of shape $(n, d)$ <br/><br/> | pd.Series of length $d$ | scalar |  pd.Series of length $n$ |\n",
    "\n",
    "<br/><br/>\n",
    "\n",
    "## 1. Applying a function to each value of a pd.Series\n",
    "\n",
    "In our elections dataset, we have a column `Candidate` that contains the name of the candidate that each vote was cast for. \n",
    "\n",
    "Let's say we wanted to extract the first name of each candidate. We can use the `apply` method to apply a custom function that extracts the first name from a string. \n"
   ]
  },
  {
   "cell_type": "code",
   "execution_count": null,
   "metadata": {},
   "outputs": [],
   "source": [
    "import pandas as pd\n",
    "\n",
    "elections = pd.read_csv('../data/elections.csv')\n",
    "\n",
    "def extract_first_name(name):\n",
    "    # name is of type string e.g. \"Andrew Jackson\"\n",
    "    space_separated_substrings = name.split(\" \")\n",
    "    first_name = space_separated_substrings[0]\n",
    "    return first_name\n",
    "\n",
    "candidate_column = elections['Candidate']\n",
    "elections['first_name'] = candidate_column.apply(extract_first_name)"
   ]
  },
  {
   "cell_type": "markdown",
   "metadata": {},
   "source": [
    "Note that the function `extract_first_name` takes a scalar input (a string): `Candidate` and returns a scalar output (a string): `first_name`. \n",
    "\n",
    "Our function `extract_first_name` is called on each value of the `Candidate` column so $n$ times where $n$ is the number of rows in the DataFrame. \n",
    "\n",
    "<center><img src=\"../assets/vectorized2.png\" width=\"30%\" style=\"filter:invert(1)\" /></center>\n",
    "\n",
    "<br/>\n",
    "\n",
    "The function `extract_first_name` returns back a scalar value for each input value. All together, we get a pd.Series of length $n$ where each value is the first name of the candidate. \n",
    "\n",
    "## 2. Applying a function to each column of a pd.DataFrame\n",
    "\n",
    "\n",
    "Let's say we wanted to count the number of unique values that each column takes on. We can use `.apply` to answer that question: "
   ]
  },
  {
   "cell_type": "code",
   "execution_count": null,
   "metadata": {},
   "outputs": [
    {
     "data": {
      "text/plain": [
       "Year             50\n",
       "Candidate       132\n",
       "Party            36\n",
       "Popular vote    182\n",
       "Result            2\n",
       "%               182\n",
       "dtype: int64"
      ]
     },
     "metadata": {},
     "output_type": "display_data"
    }
   ],
   "source": [
    "def count_unique(col):\n",
    "    return len(set(col))\n",
    "\n",
    "elections.apply(count_unique, axis=\"index\") # function is passed an individual column"
   ]
  },
  {
   "cell_type": "markdown",
   "metadata": {},
   "source": [
    "### Column-wise: `axis=0` (default)\n",
    "\n",
    "`data.apply(f, axis=0)` applies the function `f` to <b><u>each column</u></b> of the DataFrame `data`. \n",
    "\n",
    "<center><img src=\"../assets/axis0b.png\" width=\"100%\" style=\"filter:invert(1)\" /></center>\n",
    "\n",
    "For example, if we wanted to find the number of unique values in each column of a DataFrame `data`, we could use the following code:\n"
   ]
  },
  {
   "cell_type": "code",
   "execution_count": null,
   "metadata": {},
   "outputs": [
    {
     "data": {
      "text/plain": [
       "Year             50\n",
       "Candidate       132\n",
       "Party            36\n",
       "Popular vote    182\n",
       "Result            2\n",
       "%               182\n",
       "dtype: int64"
      ]
     },
     "metadata": {},
     "output_type": "display_data"
    }
   ],
   "source": [
    "def count_unique(column):\n",
    "    return len(column.unique())\n",
    "\n",
    "elections.apply(count_unique, axis=0)"
   ]
  },
  {
   "cell_type": "markdown",
   "metadata": {},
   "source": [
    "### Row-wise: `axis=1`\n",
    "\n",
    "`data.apply(f, axis=1)` applies the function `f` to <b><u>each row</u></b> of the DataFrame `data`.\n",
    "\n",
    "<center><img src=\"../assets/axis1b.png\" width=\"100%\" style=\"filter:invert(1)\" /></center>\n",
    "\n",
    "For instance, let's say we wanted to count the total number of voters in an election. \n",
    "\n",
    "We can use `.apply` to answer that question using the following formula: \n",
    "\n",
    "$$ \\text{total} \\times \\frac{\\%}{100} = \\text{Popular vote} $$"
   ]
  },
  {
   "cell_type": "code",
   "execution_count": null,
   "metadata": {},
   "outputs": [
    {
     "data": {
      "text/plain": [
       "0         264413\n",
       "1         264412\n",
       "2        1143702\n",
       "3        1143703\n",
       "4        1287655\n",
       "         ...    \n",
       "177    135720167\n",
       "178    158383403\n",
       "179    158383403\n",
       "180    158383401\n",
       "181    158383402\n",
       "Length: 182, dtype: int64"
      ]
     },
     "metadata": {},
     "output_type": "display_data"
    }
   ],
   "source": [
    "def compute_total(row):\n",
    "    return int(row['Popular vote']*100/row['%'])\n",
    "\n",
    "elections.apply(compute_total, axis=1)"
   ]
  },
  {
   "cell_type": "markdown",
   "metadata": {},
   "source": [
    "## Anonymous functions \n",
    "\n",
    "Anonymous functions are functions that are defined without a name.\n",
    "\n",
    "In Python, we use the `lambda` keyword to create anonymous functions.\n",
    "\n",
    "The syntax of a lambda function is: \n",
    "\n",
    "```python\n",
    "lambda arguments: expression\n",
    "```\n",
    "\n",
    "Lambda functions can have any number of arguments but only one expression, which is evaluated and returned, without using the `return` keyword.\n",
    "\n",
    "They are useful when we need a simple function that we will only use once.\n",
    "\n",
    "For example, let's say we wanted to add 1 to each element in a DataFrame. We could use an anonymous function to do this: \n",
    "\n",
    "```python\n",
    "double = lambda x: x * 2 \n",
    "\n",
    "double(5) # returns 10\n",
    "\n",
    "multiplyby2 = double \n",
    "\n",
    "multiplyby2(5) # returns 10\n",
    "```\n",
    "\n",
    "Note that in the above example, `double` is not a function name per se. It is a variable that refers to the anonymous function `lambda x: x * 2`.\n",
    "\n",
    "### Anonymous functions with `.apply`\n",
    "\n",
    "We can use anonymous functions with `.apply` to apply a function to each column or row of a DataFrame.\n",
    "\n",
    "For example, let's say we wanted to find the number of unique values in each column of a DataFrame `data`. We could use the following code:\n",
    "\n",
    "```python\n",
    "data.apply(lambda x: x.nunique())\n",
    "```\n",
    "\n",
    "Let's say we wanted to count the total number of voters in an election. We can use `.apply` to answer that question using the following formula:\n",
    "\n",
    "```python\n",
    "data['Popular vote'] = data.apply(lambda row: row['total'] * row['%'] / 100, axis=1)\n",
    "```\n",
    "\n",
    "\n",
    "\n"
   ]
  },
  {
   "cell_type": "markdown",
   "metadata": {},
   "source": []
  }
 ],
 "metadata": {
  "language_info": {
   "name": "python"
  }
 },
 "nbformat": 4,
 "nbformat_minor": 2
}
