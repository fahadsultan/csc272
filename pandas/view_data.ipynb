{
 "cells": [
  {
   "cell_type": "markdown",
   "metadata": {},
   "source": [
    "---\n",
    "title: \"Viewing Data\"\n",
    "toc: true\n",
    "---"
   ]
  },
  {
   "cell_type": "markdown",
   "metadata": {},
   "source": [
    "# First k rows \n",
    "\n",
    "The `.head()` method is used to view the first few rows of a DataFrame. By default, it returns the first 5 rows.\n",
    "\n",
    "```python\n",
    "import pandas as pd\n",
    "\n",
    "df = pd.read_csv('data.csv')\n",
    "df.head()\n",
    "```\n",
    "\n",
    "# Last k rows \n",
    "\n",
    "The `.tail()` method is used to view the last few rows of a DataFrame. By default, it returns the last 5 rows.\n",
    "\n",
    "```python\n",
    "\n",
    "import pandas as pd\n",
    "\n",
    "df = pd.read_csv('data.csv')\n",
    "df.tail()\n",
    "```\n",
    "\n",
    "# Random k rows \n",
    "\n",
    "The `.sample()` method is used to view a random sample of rows from a DataFrame. By default, it returns a single random row.\n",
    "\n",
    "```python\n",
    "import pandas as pd\n",
    "\n",
    "df = pd.read_csv('data.csv')\n",
    "df.sample()\n",
    "```"
   ]
  },
  {
   "cell_type": "code",
   "execution_count": null,
   "metadata": {},
   "outputs": [],
   "source": []
  }
 ],
 "metadata": {
  "language_info": {
   "name": "python"
  }
 },
 "nbformat": 4,
 "nbformat_minor": 2
}
