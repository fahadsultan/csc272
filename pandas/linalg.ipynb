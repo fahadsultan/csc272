{
 "cells": [
  {
   "cell_type": "markdown",
   "metadata": {},
   "source": [
    "---\n",
    "title: LINEAR ALGEBRA\n",
    "toc: true\n",
    "---\n",
    "\n",
    "## Scalars\n",
    "\n",
    "Most everyday mathematics consists of manipulating numbers one at a time. Formally, we call these values **scalars**. \n",
    "\n",
    "For example, the temperature in Greenville is a balmy $72$ degrees Fahrenheit. If you wanted to convert the temperature to Celsius you would evaluate the expression $c = \\frac{5}{9}(f - 32)$, setting $f = 72$. In this equation, the values $5$, $9$, and $32$ are _constant scalars_. The variables $c$ and $f$ in general represent _unknown scalars_.\n",
    "\n",
    "We denote scalars by ordinary lower-cased letters (e.g. $x$, $y$, and $z$) and the space of all (continuous) _real-valued_ scalars by $\\mathbb{R}$. The expression $x \\in \\mathbb{R}$ is a formal way to say that $x$ is a real-valued scalar. The symbol $\\in$ (pronounced “in”) denotes membership in a set. For example, $x, y \\in {0, 1}$ indicates that $x$ and $y$ are variables that can only take on values of $0$ or $1$.\n",
    "\n",
    "Scalars in Python are represented by numeric types such as `int` and `float`. \n",
    "\n",
    "```python\n",
    "x = 3\n",
    "y = 2\n",
    "\n",
    "print(\"x+y:\", x+y, \"x-y:\", x-y, \"x*y:\", x*y, \"x/y:\", x/y, \"x**y:\", x**y)\n",
    "```\n",
    "\n",
    "## Vectorized Operations\n",
    "\n",
    "Vector based programming (also known as array based programming) is a programming paradigm that uses operations on arrays to execute tasks. This is in contrast to scalar based programming where operations are performed on individual elements of an array.\n",
    "\n",
    "<center>\n",
    "<img style=\"filter:invert(1)\" width=\"60%\" src=\"https://www.illustratedbytes.com/blog/series_what_is_kinetica/01-vectorize/assets/sequential.gif\">  <img width=\"60%\" style=\"filter:invert(1)\" src=\"https://www.illustratedbytes.com/blog/series_what_is_kinetica/01-vectorize/assets/vectorize-2.gif\">\n",
    "</center>\n",
    "\n",
    "<br/>\n",
    "\n",
    "Vectorization operates at the level of individual instructions sent to a processor within each node. For instance, in the illustration shown here, the instruction is to add 5 to a column of numbers and copy the results to a new column B. With vectorization, all the data elements in that column are transformed simultaneously, i.e. the instruction to add 5 is applied to multiple pieces of data at the same time. This paradigm is sometimes referred to as Single Instruction Multiple Data (or SIMD).\n",
    "\n",
    "We can think of vectorization as subdividing the work into smaller chunks that can be handled independently by different computational units at the same time.\n",
    "\n",
    "<u>In this course, we will be minimizing the use of loops. </u>\n",
    "\n",
    "| | | \n",
    "|:---:|:---:|\n",
    "|<img src=\"../assets/serial2.png\" alt=\"fishy\" class=\"bg-primary\" width=\"100%\"  style=\"filter:invert(1)\"> |<img src=\"../assets/vectorized.png\" alt=\"fishy\" class=\"bg-primary\" width=\"40%\"  style=\"filter:invert(1)\"> | \n",
    "| 1. Serial / Sequential Operations | 2. Vectorized Operations | \n",
    "\n",
    "<br/><br/>\n",
    "\n",
    "This is orders of magnitude faster than the conventional sequential model where each piece of data is handled one after the other in sequence.\n",
    "\n",
    "Vectorized operations are also known as SIMD (Single Instruction Multiple Data) operations in the context of computer architecture. In contrast, scalar operations are known as SISD (Single Instruction Single Data) operations.\n",
    "\n",
    "<center>\n",
    "<img width=\"60%\" src=\"../assets/simd2.png\" style=\"filter:invert(1)\">  \n",
    "</center>\n",
    "<br/><br/>\n",
    "\n",
    "With vectorization, performing the same operation on a modern intel CPU is 16 times faster than the sequential mode. The performance gains on GPUs with thousands of computational cores is even greater. However, despite these remarkable performance benefits, most analytical code out there is written in the slower sequential mode. This is not a surprise, since until about a decade ago, CPU and GPU hardware could not really support vectorization for data analysis. So most implementations had to be sequential.\n",
    "\n",
    "The last 10 years, however, have seen the rise of new technologies like CUDA from NVidia and advanced vector extensions from Intel that have dramatically shifted our ability to apply vectorization. Because of the power of vectorization, some traditional vendors now make claims about including vectorization in their offerings. But shifting to this new vectorized paradigm is not easy, since all of your code needs to be written from scratch to utilize these capabilities. \n",
    "\n",
    "<center>\n",
    "<img width=\"100%\" src=\"https://assets.bwbx.io/images/users/iqjWHBFdfxIU/iGGVWf_CDfkE/v2/pidjEfPlU1QWZop3vfGKsrX.ke8XuWirGYh1PKgEw44kE/-1x-1.png\" style=\"filter:invert(1)\">  \n",
    "</center>\n",
    "\n",
    "\n",
    "<!-- \n",
    "<img src=\"../assets/vectorized3.png\" alt=\"vectorized3\" class=\"bg-primary\" width=\"20%\">  -->\n",
    "\n",
    "\n",
    "\n",
    "Vectorization can only be applied in situations when operations at individual elements are independent of each other. For example, if we want to add two arrays, we can do so by adding each element of the first array to the corresponding element of the second array. This is a vectorized operation. \n",
    "\n",
    "<center><img src=\"../assets/vectorized_sum.png\" alt=\"vectorized2\" class=\"bg-primary\" width=\"30%\" style=\"filter:invert(1)\"> </center>\n",
    "\n",
    "However, for problems such as the Fibonacci sequence, where the value of an element depends on the values of the previous two elements, we cannot vectorize the operation. Similarly, finding minimum or maximum of an array cannot be vectorized."
   ]
  },
  {
   "cell_type": "markdown",
   "metadata": {},
   "source": [
    "## Dimensions and Shapes\n",
    "\n",
    "Dimensionality, in the context of data, refers to the number of axes or directions in which data can be represented. The most common dimensions are 0, 1, 2, and n.\n",
    "\n",
    "**Scalars (0-dimensional data; values)** are single numbers. They can be integers, real numbers, or complex numbers. Scalars are the simplest objects in linear algebra.  In Python, we can represent scalars using the built-in `int` and `float` data types. For example, `3` and `3.0` are both scalars.\n",
    "\n",
    "**Vectors (1-dimensional data, collection of values)** are one-dimensional arrays of scalars. They are used to represent quantities that have both magnitude and direction. In native Python, we can represent vectors using lists or tuples. For example, `[1, 2, 3]` is a vector.\n",
    "\n",
    "<br/><br/>\n",
    "<center><img style=\"filter:invert(1)\" src=\"../assets/linearalgebra.png\" width=\"80%\"></center>\n",
    "<br/><br/>\n",
    "\n",
    "**Matrices (2-dimensional data, collection of vectors)** are two-dimensional arrays of scalars. They are used to represent linear transformations from one vector space to another. In native Python, we can represent matrices using lists of lists. For example, `[[1, 2], [3, 4]]` is a matrix.\n",
    "\n",
    "**Tensors (n-dimensional data, collection of matrices)** are n-dimensional arrays of scalars. They are used to represent multi-dimensional data.\n",
    "\n",
    "## Tabular (2-dimensional) Data\n",
    "\n",
    "Tables are one of the most common ways to organize data. This is in large part due to the simplicity and flexibility of tables. Tables allow us to represent each **observation**, or instance of collecting data from an individual, as its own row. We can record distinct characteristics, or **features**, of each observation in separate columns.\n",
    "\n",
    "<center><img style=\"filter:invert(1)\" src=\"https://pandas.pydata.org/docs/_images/01_table_dataframe.svg\" width=\"50%\"></center>\n",
    "\n",
    "\n",
    "<!-- \n",
    "<center><img width=\"50%\" src=\"https://pandas.pydata.org/docs/_images/01_table_dataframe.svg\"></center>\n",
    "<br/> -->\n",
    "\n",
    "To see this in action, we’ll explore the `elections` dataset, which stores information about political candidates who ran for president of the United States in various years.\n",
    "\n",
    "The first few rows of `elections` dataset in CSV format are as follows: \n",
    "\n",
    "```csv\n",
    "Year,Candidate,Party,Popular vote,Result,%\\n\n",
    "1824,Andrew Jackson,Democratic-Republican,151271,loss,57.21012204\\n\n",
    "1824,John Quincy Adams,Democratic-Republican,113142,win,42.78987796\\n\n",
    "1828,Andrew Jackson,Democratic,642806,win,56.20392707\\n\n",
    "1828,John Quincy Adams,National Republican,500897,loss,43.79607293\\n\n",
    "1832,Andrew Jackson,Democratic,702735,win,54.57478905\\n\n",
    "```\n",
    "\n",
    "This dataset is stored in **Comma Separated Values** (CSV) format. CSV files due to their simplicity and readability are one of the most common ways to store tabular data. Each line in a CSV file (file extension: `.csv`) represents a row in the table. In other words, each row is separated by a newline character `\\n`. Within each row, each column is separated by a comma `,`, hence the name Comma Separated Values.\n"
   ]
  },
  {
   "cell_type": "markdown",
   "metadata": {},
   "source": [
    "## DataFrame, Series and Index"
   ]
  },
  {
   "cell_type": "markdown",
   "metadata": {},
   "source": [
    "There are three fundamental data structures in `pandas`:\n",
    "\n",
    "1. **Series**: 1D labeled array data; best thought of as columnar data\n",
    "2. **DataFrame**: 2D tabular data with rows and columns\n",
    "3. **Index**: A sequence of row/column labels\n",
    "\n",
    "DataFrames, Series, and Indices can be represented visually in the following diagram, which considers the first few rows of the `elections` dataset."
   ]
  },
  {
   "cell_type": "markdown",
   "metadata": {},
   "source": [
    "\n",
    "<center><img src=\"../assets/data_structure.png\" width=\"100%\" style=\"filter:invert(1)\"></center>\n",
    "\n",
    "<!-- \n",
    "```{figure} ../assets/data_structure.png\n",
    "---\n",
    "width: 100%\n",
    "align: center\n",
    "---\n",
    "Three fundamental `pandas` data structures: **Series**, **DataFrame**, **Index**\n",
    "```  \n",
    "-->\n",
    "\n",
    "Notice how the **DataFrame** is a two-dimensional object – it contains both rows and columns. The **Series** above is a singular column of this **DataFrame**, namely, the `Result` column. Both contain an **Index**, or a shared list of row labels (here, the integers from 0 to 4, inclusive).\n",
    "\n",
    "<center><img src=\"https://raw.githubusercontent.com/fahadsultan/csc272_s23/main/assets/DataFrameSeries.png\" width=\"100%\" style=\"filter:invert(1)\"></center>\n"
   ]
  },
  {
   "cell_type": "markdown",
   "metadata": {},
   "source": [
    "\n",
    "<center><img src=\"../assets/df_cols.png\" width=\"100%\" style=\"filter:invert(1)\"></center>\n",
    "\n",
    "<br/>\n",
    "\n",
    "<center><img src=\"../assets/df_rows.png\" width=\"100%\" style=\"filter:invert(1)\"></center>\n",
    "\n"
   ]
  },
  {
   "cell_type": "markdown",
   "metadata": {},
   "source": [
    "<!--\n",
    "### Creating a DataFrame\n",
    "\n",
    "There are many ways to create a DataFrame. Here, we will cover the most popular approaches.\n",
    "\n",
    "1. Using a list and column names\n",
    "2. From a dictionary\n",
    "3. From a Series\n",
    "\n",
    "#### Using a List and Column Names\n",
    "\n",
    "Consider the following examples. The first code cell creates a DataFrame with a single column `Numbers`. The second creates a DataFrame with the columns `Numbers` and `Description`. Notice how a 2D list of values is required to initialize the second DataFrame – each nested list represents a single row of data. -->"
   ]
  },
  {
   "cell_type": "markdown",
   "metadata": {},
   "source": [
    "## `.shape` attribute\n",
    "\n",
    "`.shape` is an attribute of a DataFrame that returns a tuple representing the dimensions of the DataFrame. \n"
   ]
  },
  {
   "cell_type": "code",
   "execution_count": null,
   "metadata": {},
   "outputs": [
    {
     "data": {
      "text/plain": [
       "(182, 6)"
      ]
     },
     "metadata": {},
     "output_type": "display_data"
    }
   ],
   "source": [
    "elections.shape"
   ]
  },
  {
   "cell_type": "markdown",
   "metadata": {},
   "source": [
    "The first element of the tuple is the number of rows, and the second element is the number of columns."
   ]
  }
 ],
 "metadata": {
  "language_info": {
   "name": "python"
  }
 },
 "nbformat": 4,
 "nbformat_minor": 2
}
