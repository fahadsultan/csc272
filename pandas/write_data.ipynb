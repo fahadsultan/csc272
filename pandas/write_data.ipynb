{
 "cells": [
  {
   "cell_type": "markdown",
   "metadata": {},
   "source": [
    "## Writing Data\n",
    "\n",
    "`pandas` can also write data to a variety of file formats, including CSV, Excel, and SQL databases. The following code cell writes the `elections` dataset to a CSV file named `elections.csv`.\n",
    "\n",
    "<br/>\n",
    "\n",
    "<center><img style=\"filter:invert(1)\" src=\"https://i.ibb.co/j8Hn4VN/to-csv.png\" width=\"85%\"></center>\n",
    "\n",
    "<br/>\n",
    "\n",
    "To write a DataFrame to a CSV file, use the `df.to_csv()` function. The first input to `df.to_csv()` is the filename or filepath that you want to write to. \n",
    "\n",
    "```python\n",
    "pd.to_csv('elections_new.csv')\n",
    "```\n",
    "\n",
    "Other important parameters of the `df.to_csv()` function are:\n",
    "\n",
    "1. `sep`: (default: `sep=','`) specifies the separator used to separate columns. Default is `,` which means the columns are separated by a comma.\n",
    "\n",
    "2. `header`:  (default: `header=True`) specifies whether to write the header row. Default is `True` which means the header row is written. If you don't want to write the header row, then `header=False` should be used.\n",
    "\n",
    "3. `index`: (default: `index=True`) specifies whether to write the index column. Default is `True` which means the index column is written. If you don't want to write the index column, then `index=False` should be used.\n",
    "data.to_csv('elections.csv')"
   ]
  }
 ],
 "metadata": {
  "language_info": {
   "name": "python"
  }
 },
 "nbformat": 4,
 "nbformat_minor": 2
}
