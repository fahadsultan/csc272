{
 "cells": [
  {
   "cell_type": "markdown",
   "metadata": {},
   "source": [
    "## Writing Data\n",
    "\n",
    "## `to_csv`\n",
    "\n",
    "`pandas` can also write data to a variety of file formats, including CSV, Excel, and SQL databases. The following code cell writes the `elections` dataset to a CSV file named `elections.csv`.\n",
    "\n",
    "<br/>\n",
    "\n",
    "<center><img style=\"filter:invert(1)\" src=\"https://i.ibb.co/j8Hn4VN/to-csv.png\" width=\"85%\"></center>\n",
    "\n",
    "<br/>\n",
    "\n",
    "To write a DataFrame to a CSV file, use the `df.to_csv()` function. The first input to `df.to_csv()` is the filename or filepath that you want to write to. \n",
    "\n",
    "```python\n",
    "pd.to_csv('elections_new.csv')\n",
    "```\n",
    "\n",
    "Other important parameters of the `df.to_csv()` function are:\n",
    "\n",
    "1. `sep`: (default: `sep=','`) specifies the separator used to separate columns. Default is `,` which means the columns are separated by a comma.\n",
    "\n",
    "2. `header`:  (default: `header=True`) specifies whether to write the header row. Default is `True` which means the header row is written. If you don't want to write the header row, then `header=False` should be used.\n",
    "\n",
    "3. `index`: (default: `index=True`) specifies whether to write the index column. Default is `True` which means the index column is written. If you don't want to write the index column, then `index=False` should be used.\n",
    "data.to_csv('elections.csv')"
   ]
  },
  {
   "cell_type": "markdown",
   "metadata": {},
   "source": [
    "# Pickle\n",
    "\n",
    "pickle is a Python module used to serialize and deserialize Python objects. It can be used to store and retrieve Python objects from disk.\n",
    "\n",
    "## Serialization\n",
    "\n",
    "Serialization is the process of converting a Python object into a byte stream. This byte stream can be stored on disk or sent over a network.\n",
    "\n",
    "The `pickle.dump()` function is used to serialize a Python object. It takes two arguments: the object to serialize and a file object to write the byte stream to.\n",
    "\n",
    "```python\n",
    "import pickle\n",
    "\n",
    "data = {'name': 'Alice', 'age': 25}\n",
    "\n",
    "with open('data.pickle', 'wb') as f:\n",
    "    pickle.dump(data, f)\n",
    "```\n",
    "\n",
    "In this example, we serialize a dictionary containing a person's name and age to a file called `data.pickle`.\n",
    "\n",
    "## Deserialization\n",
    "\n",
    "Deserialization is the process of converting a byte stream back into a Python object.\n",
    "\n",
    "The `pickle.load()` function is used to deserialize a Python object. It takes a file object containing the byte stream as an argument and returns the deserialized object.\n",
    "\n",
    "```python\n",
    "\n",
    "with open('data.pickle', 'rb') as f:\n",
    "    data = pickle.load(f)\n",
    "\n",
    "print(data)\n",
    "\n",
    "```\n",
    "\n",
    "In this example, we deserialize the byte stream from the `data.pickle` file back into a Python object and print it.\n",
    "\n",
    "## Security\n",
    "\n",
    "It is important to note that the `pickle` module is not secure. Deserializing untrusted data can lead to security vulnerabilities, as malicious code can be executed during deserialization. It is recommended to only deserialize data from trusted sources."
   ]
  },
  {
   "cell_type": "code",
   "execution_count": null,
   "metadata": {
    "vscode": {
     "languageId": "plaintext"
    }
   },
   "outputs": [],
   "source": []
  },
  {
   "cell_type": "code",
   "execution_count": null,
   "metadata": {},
   "outputs": [],
   "source": []
  }
 ],
 "metadata": {
  "language_info": {
   "name": "python"
  }
 },
 "nbformat": 4,
 "nbformat_minor": 2
}
