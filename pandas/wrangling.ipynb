{
 "cells": [
  {
   "cell_type": "markdown",
   "metadata": {},
   "source": [
    "# Vectorized Operations\n",
    "\n",
    "Vector based programming (also known as array based programming) is a programming paradigm that uses operations on arrays to execute tasks. This is in contrast to scalar based programming where operations are performed on individual elements of an array.\n",
    "\n",
    "<center>\n",
    "<img style=\"filter:invert(1)\" width=\"60%\" src=\"https://www.illustratedbytes.com/blog/series_what_is_kinetica/01-vectorize/assets/sequential.gif\">  <img width=\"60%\" style=\"filter:invert(1)\" src=\"https://www.illustratedbytes.com/blog/series_what_is_kinetica/01-vectorize/assets/vectorize-2.gif\">\n",
    "</center>\n",
    "\n",
    "<br/>\n",
    "\n",
    "Vectorization operates at the level of individual instructions sent to a processor within each node. For instance, in the illustration shown here, the instruction is to add 5 to a column of numbers and copy the results to a new column B. With vectorization, all the data elements in that column are transformed simultaneously, i.e. the instruction to add 5 is applied to multiple pieces of data at the same time. This paradigm is sometimes referred to as Single Instruction Multiple Data (or SIMD).\n",
    "\n",
    "We can think of vectorization as subdividing the work into smaller chunks that can be handled independently by different computational units at the same time.\n",
    "\n",
    "<u>In this course, we will be minimizing the use of loops. </u>\n",
    "\n",
    "| | | \n",
    "|:---:|:---:|\n",
    "|<img src=\"../assets/serial2.png\" alt=\"fishy\" class=\"bg-primary\" width=\"100%\"  style=\"filter:invert(1)\"> |<img src=\"../assets/vectorized.png\" alt=\"fishy\" class=\"bg-primary\" width=\"40%\"  style=\"filter:invert(1)\"> | \n",
    "| 1. Serial / Sequential Operations | 2. Vectorized Operations | \n",
    "\n",
    "<br/><br/>\n",
    "\n",
    "This is orders of magnitude faster than the conventional sequential model where each piece of data is handled one after the other in sequence.\n",
    "\n",
    "Vectorized operations are also known as SIMD (Single Instruction Multiple Data) operations in the context of computer architecture. In contrast, scalar operations are known as SISD (Single Instruction Single Data) operations.\n",
    "\n",
    "<center>\n",
    "<img width=\"60%\" src=\"../assets/simd2.png\" style=\"filter:invert(1)\">  \n",
    "</center>\n",
    "<br/><br/>\n",
    "\n",
    "With vectorization, performing the same operation on a modern intel CPU is 16 times faster than the sequential mode. The performance gains on GPUs with thousands of computational cores is even greater. However, despite these remarkable performance benefits, most analytical code out there is written in the slower sequential mode. This is not a surprise, since until about a decade ago, CPU and GPU hardware could not really support vectorization for data analysis. So most implementations had to be sequential.\n",
    "\n",
    "The last 10 years, however, have seen the rise of new technologies like CUDA from NVidia and advanced vector extensions from Intel that have dramatically shifted our ability to apply vectorization. Because of the power of vectorization, some traditional vendors now make claims about including vectorization in their offerings. But shifting to this new vectorized paradigm is not easy, since all of your code needs to be written from scratch to utilize these capabilities. \n",
    "\n",
    "<center>\n",
    "<img width=\"100%\" src=\"https://assets.bwbx.io/images/users/iqjWHBFdfxIU/iGGVWf_CDfkE/v2/pidjEfPlU1QWZop3vfGKsrX.ke8XuWirGYh1PKgEw44kE/-1x-1.png\" style=\"filter:invert(1)\">  \n",
    "</center>\n",
    "\n",
    "\n",
    "<!-- \n",
    "<img src=\"../assets/vectorized3.png\" alt=\"vectorized3\" class=\"bg-primary\" width=\"20%\">  -->\n",
    "\n",
    "\n",
    "\n",
    "Vectorization can only be applied in situations when operations at individual elements are independent of each other. For example, if we want to add two arrays, we can do so by adding each element of the first array to the corresponding element of the second array. This is a vectorized operation. \n",
    "\n",
    "<center><img src=\"../assets/vectorized_sum.png\" alt=\"vectorized2\" class=\"bg-primary\" width=\"30%\" style=\"filter:invert(1)\"> </center>\n",
    "\n",
    "However, for problems such as the Fibonacci sequence, where the value of an element depends on the values of the previous two elements, we cannot vectorize the operation. Similarly, finding minimum or maximum of an array cannot be vectorized."
   ]
  },
  {
   "cell_type": "markdown",
   "metadata": {},
   "source": [
    "Let's read in the same elections data from the previous exercise and do some data manipulation and wrangling using pandas."
   ]
  },
  {
   "cell_type": "code",
   "execution_count": 3,
   "metadata": {},
   "outputs": [],
   "source": [
    "import pandas as pd \n",
    "url = \"https://raw.githubusercontent.com/fahadsultan/csc272/main/data/elections.csv\"\n",
    "elections = pd.read_csv(url)"
   ]
  },
  {
   "cell_type": "markdown",
   "metadata": {},
   "source": [
    "## Data Alignment\n",
    "\n",
    "`pandas` can make it much simpler to work with objects that have different indexes. For example, when you add objects, if any index pairs are not the same, the respective index in the result will be the union of the index pairs. Let’s look at an example:\n"
   ]
  },
  {
   "cell_type": "code",
   "execution_count": 3,
   "metadata": {},
   "outputs": [
    {
     "data": {
      "text/plain": [
       "(a    7.3\n",
       " c   -2.5\n",
       " d    3.4\n",
       " e    1.5\n",
       " dtype: float64,\n",
       " a   -2.1\n",
       " c    3.6\n",
       " e   -1.5\n",
       " f    4.0\n",
       " g    3.1\n",
       " dtype: float64,\n",
       " a    5.2\n",
       " c    1.1\n",
       " d    NaN\n",
       " e    0.0\n",
       " f    NaN\n",
       " g    NaN\n",
       " dtype: float64)"
      ]
     },
     "execution_count": 3,
     "metadata": {},
     "output_type": "execute_result"
    }
   ],
   "source": [
    "s1 = pd.Series([7.3, -2.5, 3.4, 1.5], index=[\"a\", \"c\", \"d\", \"e\"])\n",
    "\n",
    "s2 = pd.Series([-2.1, 3.6, -1.5, 4, 3.1], index=[\"a\", \"c\", \"e\", \"f\", \"g\"])\n",
    "\n",
    "s1, s2, s1 + s2"
   ]
  },
  {
   "cell_type": "markdown",
   "metadata": {},
   "source": [
    "The internal data alignment introduces missing values in the label locations that don’t overlap. Missing values will then propagate in further arithmetic computations.\n",
    "\n",
    "In the case of DataFrame, alignment is performed on both rows and columns:"
   ]
  },
  {
   "cell_type": "code",
   "execution_count": null,
   "metadata": {},
   "outputs": [],
   "source": [
    "df1 = pd.DataFrame({\"A\": [1, 2], \"B\":[3, 4]})\n",
    "df2 = pd.DataFrame({\"B\": [5, 6], \"D\":[7, 8]})\n",
    "df1 + df2"
   ]
  },
  {
   "cell_type": "markdown",
   "metadata": {},
   "source": [
    "\n",
    "<br/>\n",
    "\n",
    "## Math Operations"
   ]
  },
  {
   "cell_type": "markdown",
   "metadata": {},
   "source": [
    "In native Python, we have a number of operators that we can use to manipulate data. Most, if not all, of these operators can be used with Pandas Series and DataFrames and are applied element-wise in parallel. A summary of the operators supported by Pandas is shown below:\n",
    "\n",
    "<br/>\n",
    "\n",
    "| Category | Operators | Supported by Pandas | Comments |\n",
    "| --- | --- | --- | --- |\n",
    "| Arithmetic | `+`, `-`, `*`, `/`, `%`, `//`, `**` | ✅ | Assuming comparable shapes (equal length) |\n",
    "| Assignment | `=`, `+=`, `-=`, `*=`, `/=`, `%=`, `//=`, `**=` | ✅ | Assuming comparable shapes |\n",
    "| Comparison | `==`, `!=`, `>`, `<`, `>=`, `<=` | ✅ | Assuming comparable shapes |\n",
    "| Logical | `and`, `or`, `not` | ❌ | Use `&`, `\\|`, `~` instead |\n",
    "| Identity | `is`, `is not` | ✅ | Assuming comparable data type/structure |\n",
    "| Membership | `in`, `not in` | ❌ | Use `isin()` method instead |\n",
    "| Bitwise | `&`, `\\|`, `^`, `~`, `<<`, `>>` | ❌ |  |\n",
    "\n",
    "<br/>\n",
    "\n",
    "The most significant difference is that <u><b>logical operators `and`, `or`, and `not` are NOT used with Pandas Series and DataFrames</u></b>. Instead, we use `&`, `|`, and `~` respectively.\n",
    "\n",
    "Membership operators `in` and `not in` are also not used with Pandas Series and DataFrames. Instead, we use the `isin()` method.\n"
   ]
  }
 ],
 "metadata": {
  "kernelspec": {
   "display_name": "base",
   "language": "python",
   "name": "python3"
  },
  "language_info": {
   "codemirror_mode": {
    "name": "ipython",
    "version": 3
   },
   "file_extension": ".py",
   "mimetype": "text/x-python",
   "name": "python",
   "nbconvert_exporter": "python",
   "pygments_lexer": "ipython3",
   "version": "3.9.12"
  }
 },
 "nbformat": 4,
 "nbformat_minor": 2
}
